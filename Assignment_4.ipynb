{
 "cells": [
  {
   "cell_type": "markdown",
   "metadata": {},
   "source": [
    "# Assignment 4"
   ]
  },
  {
   "cell_type": "markdown",
   "metadata": {},
   "source": [
    "### 1. 复习上课内容以及复现课程代码"
   ]
  },
  {
   "cell_type": "markdown",
   "metadata": {},
   "source": [
    "在本部分，你需要复习上课内容和课程代码后，自己复现课程代码。"
   ]
  },
  {
   "cell_type": "markdown",
   "metadata": {},
   "source": [
    "### 2. 回答一下理论题目"
   ]
  },
  {
   "cell_type": "markdown",
   "metadata": {},
   "source": [
    "#### 1. What does a neuron compute?"
   ]
  },
  {
   "cell_type": "markdown",
   "metadata": {},
   "source": [
    "It computes the weighted average of its inputs."
   ]
  },
  {
   "cell_type": "markdown",
   "metadata": {},
   "source": [
    "####  2. Why we use non-linear activation funcitons in neural networks?"
   ]
  },
  {
   "cell_type": "markdown",
   "metadata": {},
   "source": [
    "If we dont use non-linear activation, no matter how many layers used in the networks, it's essentially just one layer, i.e. a linear transformation from input to output."
   ]
  },
  {
   "cell_type": "markdown",
   "metadata": {},
   "source": [
    "#### 3. What is the 'Logistic Loss' ?"
   ]
  },
  {
   "cell_type": "markdown",
   "metadata": {},
   "source": [
    "loss of logistic regression: negative log likelihood of p(y|x)\n",
    "\n",
    "$$ L = -(y * log(\\hat{y}) + (1-y) * log(1-\\hat{y})) $$"
   ]
  },
  {
   "cell_type": "markdown",
   "metadata": {},
   "source": [
    "#### 4. Assume that you are building a binary classifier for detecting if an image containing cats, which activation functions would you recommen using for the output layer ?\n",
    "\n",
    "A. ReLU    \n",
    "B. Leaky ReLU    \n",
    "C. sigmoid    \n",
    "D. tanh  "
   ]
  },
  {
   "cell_type": "markdown",
   "metadata": {},
   "source": [
    "C"
   ]
  },
  {
   "cell_type": "markdown",
   "metadata": {},
   "source": [
    "#### 5. Why we don't use zero initialization for all parameters ?"
   ]
  },
  {
   "cell_type": "markdown",
   "metadata": {},
   "source": [
    "if all parameters are zero, the contribution of different input x cannot be distinguished.The feedfoward signals become zero everywhere and the network is symmetric and proper credit assignment / error backpropagation is not possible. "
   ]
  },
  {
   "cell_type": "markdown",
   "metadata": {},
   "source": [
    "#### 6. Can you implement the softmax function using python ? "
   ]
  },
  {
   "cell_type": "code",
   "execution_count": 1,
   "metadata": {},
   "outputs": [
    {
     "data": {
      "text/plain": [
       "[<matplotlib.lines.Line2D at 0x1d908654f88>]"
      ]
     },
     "execution_count": 1,
     "metadata": {},
     "output_type": "execute_result"
    },
    {
     "data": {
      "image/png": "[encoded data removed]",
      "text/plain": [
       "<Figure size 432x288 with 1 Axes>"
      ]
     },
     "metadata": {
      "needs_background": "light"
     },
     "output_type": "display_data"
    }
   ],
   "source": [
    "import numpy as np\n",
    "import matplotlib.pyplot as plt\n",
    "%matplotlib inline\n",
    "\n",
    "def softmax(x):\n",
    "    E = sum(np.exp(x))\n",
    "    return [np.exp(xx)/E for xx in x]\n",
    "\n",
    "x = np.arange(-3,4)\n",
    "plt.plot(x,softmax(x))"
   ]
  },
  {
   "cell_type": "markdown",
   "metadata": {},
   "source": [
    "### 3.实践题"
   ]
  },
  {
   "cell_type": "markdown",
   "metadata": {},
   "source": [
    "#### In this practical part, you will build a simple digits recognizer to check if the digit in the image is larger than 5. This assignmnet will guide you step by step to finish your first small project in this course ."
   ]
  },
  {
   "cell_type": "markdown",
   "metadata": {},
   "source": [
    "#### 1 - Packages  \n",
    "sklearn is a famous package for machine learning.   \n",
    "matplotlib is a common package for vasualization."
   ]
  },
  {
   "cell_type": "code",
   "execution_count": 2,
   "metadata": {},
   "outputs": [],
   "source": [
    "from sklearn import datasets\n",
    "import matplotlib.pyplot as plt\n",
    "from sklearn.model_selection import train_test_split"
   ]
  },
  {
   "cell_type": "markdown",
   "metadata": {},
   "source": [
    "#### 2 - Overvie of the dataset  \n",
    "    - a training set has m_train images labeled as 0 if the digit < 5 or 1 if the digit >= 5\n",
    "    - a test set contains m_test images labels as if the digit < 5 or 1 if the digit >= 5\n",
    "    - eah image if of shape (num_px, num_px ). Thus, each image is square(height=num_px and  width = num_px)"
   ]
  },
  {
   "cell_type": "code",
   "execution_count": 3,
   "metadata": {},
   "outputs": [],
   "source": [
    "# Loading the data \n",
    "digits = datasets.load_digits()"
   ]
  },
  {
   "cell_type": "code",
   "execution_count": 4,
   "metadata": {},
   "outputs": [
    {
     "data": {
      "image/png": "[encoded data removed]",
      "text/plain": [
       "<Figure size 432x288 with 10 Axes>"
      ]
     },
     "metadata": {},
     "output_type": "display_data"
    }
   ],
   "source": [
    "# Vilizating the data\n",
    "for i in range(1,11):\n",
    "    plt.subplot(2,5,i)\n",
    "    plt.imshow(digits.data[i-1].reshape([8,8]),cmap=plt.cm.gray_r)\n",
    "    plt.text(3,10,str(digits.target[i-1]))\n",
    "    plt.xticks([])\n",
    "    plt.yticks([])\n",
    "plt.show()"
   ]
  },
  {
   "cell_type": "code",
   "execution_count": 5,
   "metadata": {},
   "outputs": [],
   "source": [
    "# Split the data into training set and test set \n",
    "X_train, X_test, y_train, y_test = train_test_split(digits.data, digits.target, test_size=0.25)"
   ]
  },
  {
   "cell_type": "code",
   "execution_count": 6,
   "metadata": {},
   "outputs": [],
   "source": [
    "# reformulate the label. \n",
    "# If the digit is smaller than 5, the label is 0.\n",
    "# If the digit is larger than 5, the label is 1.\n",
    "\n",
    "y_train[y_train < 5 ] = 0\n",
    "y_train[y_train >= 5] = 1\n",
    "y_test[y_test < 5] = 0\n",
    "y_test[y_test >= 5] = 1"
   ]
  },
  {
   "cell_type": "code",
   "execution_count": 7,
   "metadata": {},
   "outputs": [
    {
     "name": "stdout",
     "output_type": "stream",
     "text": [
      "(1347, 64)\n",
      "(450, 64)\n",
      "(1347,)\n",
      "(450,)\n"
     ]
    }
   ],
   "source": [
    "print(X_train.shape)\n",
    "print(X_test.shape)\n",
    "print(y_train.shape)\n",
    "print(y_test.shape)"
   ]
  },
  {
   "cell_type": "markdown",
   "metadata": {},
   "source": [
    "#### 3- Architecture of the neural network"
   ]
  },
  {
   "cell_type": "markdown",
   "metadata": {},
   "source": [
    "![title](./networks.png)"
   ]
  },
  {
   "cell_type": "markdown",
   "metadata": {},
   "source": [
    "##### Mathematical expression of the algorithm:"
   ]
  },
  {
   "cell_type": "markdown",
   "metadata": {},
   "source": [
    "For one example $x^{(i)}$:   \n",
    " $$ z^{(i)} = w^T * x^{(i)} +b $$   \n",
    " $$ y^{(i)} = a^{(i)} = sigmoid(z^{(i)})$$   \n",
    " $$L(a^{(i)},y^{(i)}) = -y^{(i)} log(a^{(i)})-(1-y^{(i)})log(1-a^{(i)})$$"
   ]
  },
  {
   "cell_type": "markdown",
   "metadata": {},
   "source": [
    "The total cost over all training examples:\n",
    "$$ J = \\frac{1}{m}\\sum_{i=1}^{m}L(a^{(i)},y^{(i)}) $$"
   ]
  },
  {
   "cell_type": "markdown",
   "metadata": {},
   "source": [
    "#### 4 - Building the algorithm"
   ]
  },
  {
   "cell_type": "markdown",
   "metadata": {},
   "source": [
    "##### 4.1- Activation function    \n",
    "###### Exercise:\n",
    "Finish the sigmoid funciton "
   ]
  },
  {
   "cell_type": "code",
   "execution_count": 8,
   "metadata": {},
   "outputs": [],
   "source": [
    "def sigmoid(z):\n",
    "    '''\n",
    "    Compute the sigmoid of z\n",
    "    Arguments: z -- a scalar or numpy array of any size.\n",
    "    \n",
    "    Return:\n",
    "    s -- sigmoid(z)\n",
    "    '''\n",
    "    s = 1 / (1 + np.exp(-z))\n",
    "    \n",
    "    return s"
   ]
  },
  {
   "cell_type": "code",
   "execution_count": 9,
   "metadata": {},
   "outputs": [
    {
     "name": "stdout",
     "output_type": "stream",
     "text": [
      "sigmoid([0,2]) = [0.5        0.88079708]\n"
     ]
    }
   ],
   "source": [
    "# Test your code \n",
    "# The result should be [0.5 0.88079708]\n",
    "print(\"sigmoid([0,2]) = \" + str(sigmoid(np.array([0,2]))))"
   ]
  },
  {
   "cell_type": "markdown",
   "metadata": {},
   "source": [
    "##### 4.1-Initializaing parameters\n",
    "###### Exercise:\n",
    "Finishe the initialize_parameters function below"
   ]
  },
  {
   "cell_type": "code",
   "execution_count": 10,
   "metadata": {},
   "outputs": [
    {
     "data": {
      "text/plain": [
       "(array([[0.00383189],\n",
       "        [0.00673954],\n",
       "        [0.00189942],\n",
       "        [0.0006294 ],\n",
       "        [0.00194302]]), 0.0014072125504056676)"
      ]
     },
     "execution_count": 10,
     "metadata": {},
     "output_type": "execute_result"
    }
   ],
   "source": [
    "# Random innitialize the parameters\n",
    "\n",
    "def initialize_parameters(dim):\n",
    "    '''\n",
    "    Argument: dim -- size of the w vector\n",
    "    \n",
    "    Returns:\n",
    "    w -- initialized vector of shape (dim,1)\n",
    "    b -- initializaed scalar\n",
    "    '''\n",
    "    \n",
    "    w = 0.01 * np.random.rand(dim,1)\n",
    "    b = 0.01 * np.random.rand()\n",
    "    \n",
    "    assert(w.shape == (dim,1))\n",
    "    assert(isinstance(b,float) or isinstance(b,int))\n",
    "    \n",
    "    return w,b\n",
    "\n",
    "initialize_parameters(5)"
   ]
  },
  {
   "cell_type": "markdown",
   "metadata": {},
   "source": [
    "#### 4.3-Forward and backward propagation"
   ]
  },
  {
   "cell_type": "markdown",
   "metadata": {},
   "source": [
    "###### Some mathematical expressions\n",
    "Forward Propagation:   \n",
    ". X    \n",
    ". A = $\\sigma(w^T*X+b) = (a^{(1)},a^{(2)},...,a^{(m)}$   \n",
    ". J = $-\\frac{1}{m} \\sum_{i=1}^{m}y^{(i)}log(a^{(i)}+(1-y^{(i)})log(1-a^{(i)})$       "
   ]
  },
  {
   "cell_type": "markdown",
   "metadata": {},
   "source": [
    "Some derivative: \n",
    "$$\\frac{\\partial{J}}{\\partial{w}} = \\frac{1}{m}X*(A-Y)^T$$   \n",
    "$$\\frac{\\partial{J}}{\\partial{b}} = \\frac{1}{m}\\sum_{i=1}^m(a^{(i)}-y^{(i)}) $$"
   ]
  },
  {
   "cell_type": "markdown",
   "metadata": {},
   "source": [
    "###### Exercise:\n",
    "Finish the function below:"
   ]
  },
  {
   "cell_type": "code",
   "execution_count": 11,
   "metadata": {},
   "outputs": [
    {
     "data": {
      "text/plain": [
       "({'dw': array([[ 0.01520819],\n",
       "         [-0.00259907],\n",
       "         [-0.0063082 ]]), 'db': 0.003044071608628766}, 0.6932136100509927)"
      ]
     },
     "execution_count": 11,
     "metadata": {},
     "output_type": "execute_result"
    }
   ],
   "source": [
    "def propagate(w,b,X,Y):\n",
    "    '''\n",
    "    Implement the cost function and its gradient for the propagation\n",
    "    \n",
    "    Arguments:\n",
    "    w - weights\n",
    "    b - bias\n",
    "    X - data\n",
    "    Y - ground truth\n",
    "    '''\n",
    "    m = X.shape[1] \n",
    "    A = sigmoid(np.dot(w.T,X) + b)\n",
    "    cost = -np.mean(Y * np.log(A) + (1-Y) * np.log(1-A))\n",
    "    \n",
    "    dw = 1/m * np.dot(X,(A-Y).T)\n",
    "    db = 1/m * np.sum(A - Y)\n",
    "    \n",
    "    assert(dw.shape == w.shape)\n",
    "    assert(db.dtype == float)\n",
    "    cost = np.squeeze(cost)\n",
    "    assert(cost.shape == ())\n",
    "    \n",
    "    grads = {'dw':dw,\n",
    "             'db':db}\n",
    "    return grads, cost\n",
    "\n",
    "\n",
    "X = np.random.rand(3,30)\n",
    "Y = np.random.randint(2,size=(1,30))\n",
    "w,b = initialize_parameters(3)\n",
    "propagate(w,b,X,Y)"
   ]
  },
  {
   "cell_type": "markdown",
   "metadata": {},
   "source": [
    "##### 4.4 -Optimization"
   ]
  },
  {
   "cell_type": "markdown",
   "metadata": {},
   "source": [
    "###### Exercise:\n",
    "Minimizing the cost function using gradient descent.   \n",
    "$$\\theta = \\theta - \\alpha*d\\theta$$ where $\\alpha$ is the learning rate."
   ]
  },
  {
   "cell_type": "code",
   "execution_count": 12,
   "metadata": {},
   "outputs": [
    {
     "name": "stdout",
     "output_type": "stream",
     "text": [
      "Cost after iteration 0: 0.966722\n",
      "Cost after iteration 100: 0.434809\n",
      "Cost after iteration 200: 0.328273\n",
      "Cost after iteration 300: 0.331680\n",
      "Cost after iteration 400: 0.312783\n",
      "Cost after iteration 500: 0.300158\n",
      "Cost after iteration 600: 0.295060\n",
      "Cost after iteration 700: 0.292796\n",
      "Cost after iteration 800: 0.291493\n",
      "Cost after iteration 900: 0.290446\n"
     ]
    }
   ],
   "source": [
    "def optimize(w, b, X, Y, num_iterations, learning_rate, print_cost=False):\n",
    "    '''\n",
    "    This function optimize w and b by running a gradient descen algorithm\n",
    "    \n",
    "    Arguments:\n",
    "    w - weights\n",
    "    b - bias\n",
    "    X - data\n",
    "    Y - ground truth\n",
    "    num_iterations -- number of iterations of the optimization loop\n",
    "    learning_rate -- learning rate of the gradient descent update rule\n",
    "    print_cost -- True to print the loss every 100 steps\n",
    "    \n",
    "    Returns:\n",
    "    params - dictionary containing the weights w and bias b\n",
    "    grads -- dictionary containing the gradients of the weights and bias with respect to the cost function\n",
    "    costs -- list of all the costs computed during the optimization, this will be used to plot the learning curve.\n",
    "    \n",
    "    '''\n",
    "    \n",
    "    costs = []\n",
    "    \n",
    "    for i in range(num_iterations):\n",
    "        \n",
    "        grads, cost = propagate(w,b,X,Y)        \n",
    "        \n",
    "        dw = grads['dw']\n",
    "        db = grads['db']\n",
    "        \n",
    "        w = w - learning_rate * dw\n",
    "        b = b - learning_rate * db\n",
    "\n",
    "        \n",
    "        if i % 100 == 0:\n",
    "            costs.append(cost)\n",
    "        if print_cost and i % 100 == 0:\n",
    "            print (\"Cost after iteration %i: %f\" %(i, cost))\n",
    "    \n",
    "    params = {\"w\":w,\n",
    "              \"b\":b}\n",
    "    \n",
    "    grads = {\"dw\":dw,\n",
    "             \"db\":db}\n",
    "    \n",
    "    return params, grads, costs\n",
    "\n",
    "\n",
    "w,b = initialize_parameters(64)\n",
    "learning_rate = 1e-2\n",
    "num_iterations = 1000\n",
    "params,grads,costs = optimize(w, b, X_train.T, y_train.T, num_iterations, learning_rate, print_cost=True)"
   ]
  },
  {
   "cell_type": "markdown",
   "metadata": {},
   "source": [
    "###### Exercise\n",
    "The previous function will output the learned w and b. We are able to use w and b to predict the labels for a dataset X. Implement the predict() function.    \n",
    "Two steps to finish this task:   \n",
    "1. Calculate $\\hat{Y} = A = \\sigma(w^T*X+b)$   \n",
    "2. Convert the entries of a into 0 (if activation <= 0.5) or 1 (if activation > 0.5), stores the predictions in a vector Y_prediction. If you wish, you can use an if/else statement in a for loop (though there is also a way to vectorize this)."
   ]
  },
  {
   "cell_type": "code",
   "execution_count": 13,
   "metadata": {},
   "outputs": [],
   "source": [
    "def predict(w, b, X):\n",
    "    '''\n",
    "    Predict whether the label is 0 or 1 using learned logistic regression parameters (w, b)\n",
    "    \n",
    "    Arguments:\n",
    "    w -- weights\n",
    "    b -- bias \n",
    "    X -- data \n",
    "    \n",
    "    Returns:\n",
    "    Y_prediction -- a numpy array (vector) containing all predictions (0/1) for the examples in X\n",
    "    '''\n",
    "    m = X.shape[1]\n",
    "    Y_prediction = np.zeros((1,m))\n",
    "    w = w.reshape(X.shape[0],1)\n",
    "    \n",
    "    A = sigmoid(np.dot(w.T,X) + b)\n",
    "    \n",
    "#     for i in range(A.shape[1]):\n",
    "#         None \n",
    "    \n",
    "    Y_prediction = (A > 0.5)\n",
    "    \n",
    "    assert(Y_prediction.shape == (1,m))\n",
    "    \n",
    "    return Y_prediction"
   ]
  },
  {
   "cell_type": "markdown",
   "metadata": {},
   "source": [
    "##### 5- Merge all functions into a model"
   ]
  },
  {
   "cell_type": "markdown",
   "metadata": {},
   "source": [
    "Congratulations !! You have finished all the necessary components for constructing a model. Now, Let's take the challenge to merge all the implemented function into one model."
   ]
  },
  {
   "cell_type": "code",
   "execution_count": 14,
   "metadata": {},
   "outputs": [
    {
     "name": "stdout",
     "output_type": "stream",
     "text": [
      "Cost after iteration 0: 0.923365\n",
      "Cost after iteration 100: 0.432814\n",
      "Cost after iteration 200: 0.323810\n",
      "Cost after iteration 300: 0.332458\n",
      "Cost after iteration 400: 0.316512\n",
      "Cost after iteration 500: 0.302282\n",
      "Cost after iteration 600: 0.296355\n",
      "Cost after iteration 700: 0.293762\n",
      "Cost after iteration 800: 0.292267\n",
      "Cost after iteration 900: 0.291028\n",
      "\n",
      "\n",
      "Training Accuracy: 0.8841870824053452\n",
      "Test Accuracy: 0.8911111111111111\n"
     ]
    }
   ],
   "source": [
    "def model(X_train, Y_train, X_test, Y_test, num_iterations, learning_rate,print_cost=False):\n",
    "    \"\"\"\n",
    "    Build the logistic regression model by calling all the functions you have implemented.\n",
    "    Arguments:\n",
    "    X_train - training set\n",
    "    Y_train - training label\n",
    "    X_test - test set\n",
    "    Y_test - test label\n",
    "    num_iteration - hyperparameter representing the number of iterations to optimize the parameters\n",
    "    learning_rate -- hyperparameter representing the learning rate used in the update rule of optimize()\n",
    "    print_cost -- Set to true to print the cost every 100 iterations\n",
    "    \n",
    "    Returns:\n",
    "    d - dictionary should contain following information w,b,training_accuracy, test_accuracy,cost\n",
    "    eg: d = {\"w\":w,\n",
    "             \"b\":b,\n",
    "             \"training_accuracy\": traing_accuracy,\n",
    "             \"test_accuracy\":test_accuracy,\n",
    "             \"cost\":cost}\n",
    "    \"\"\"\n",
    "    \n",
    "    dim = X_train.shape[0]\n",
    "    \n",
    "    w,b = initialize_parameters(dim)\n",
    "    \n",
    "    params, grads, cost = optimize(w, b, X_train, Y_train, num_iterations, learning_rate, print_cost=print_cost)\n",
    "    \n",
    "    w,b = params[\"w\"],params[\"b\"]\n",
    "    \n",
    "    Y_train_hat = predict(w,b,X_train)\n",
    "    Y_test_hat = predict(w,b,X_test)\n",
    "    \n",
    "    training_accuracy = np.mean(Y_train_hat == Y_train)\n",
    "    test_accuracy = np.mean(Y_test_hat == Y_test)\n",
    "    \n",
    "    d = {\"w\":w,\"b\":b,\"training_accuracy\":training_accuracy,\"test_accuracy\":test_accuracy,\"cost\":cost}\n",
    "    \n",
    "    return d\n",
    "\n",
    "\n",
    "\n",
    "num_iterations = 1000\n",
    "learning_rate = 1e-2\n",
    "\n",
    "d = model(X_train.T, y_train.T, X_test.T, y_test.T, num_iterations, learning_rate,print_cost=True)\n",
    "\n",
    "print(\"\\n\\nTraining Accuracy: {}\".format(d[\"training_accuracy\"],\"%.2f\"))\n",
    "print(\"Test Accuracy: {}\".format(d[\"test_accuracy\"],\"%.2f\"))"
   ]
  },
  {
   "cell_type": "markdown",
   "metadata": {},
   "source": [
    "### 4.选做题"
   ]
  },
  {
   "cell_type": "markdown",
   "metadata": {},
   "source": [
    "Congratulations on building your first logistic regression model. It is your time to analyze it further."
   ]
  },
  {
   "cell_type": "markdown",
   "metadata": {},
   "source": [
    "##### 4.1 Observe the effect of learning rate on the leraning process.   \n",
    "Hits: plot the learning curve with different learning rate"
   ]
  },
  {
   "cell_type": "code",
   "execution_count": 15,
   "metadata": {},
   "outputs": [
    {
     "data": {
      "text/plain": [
       "Text(0, 0.5, 'Cost')"
      ]
     },
     "execution_count": 15,
     "metadata": {},
     "output_type": "execute_result"
    },
    {
     "data": {
      "image/png": "[encoded data removed]",
      "text/plain": [
       "<Figure size 432x288 with 1 Axes>"
      ]
     },
     "metadata": {
      "needs_background": "light"
     },
     "output_type": "display_data"
    }
   ],
   "source": [
    "learning_rates = 10.0**np.arange(-5,-1)\n",
    "\n",
    "for alpha in learning_rates:\n",
    "    \n",
    "    d = model(X_train.T, y_train.T, X_test.T, y_test.T, num_iterations,alpha,print_cost=False)\n",
    "    \n",
    "    cost = d[\"cost\"]\n",
    "\n",
    "    plt.plot(cost,label=alpha)\n",
    "    \n",
    "plt.legend()\n",
    "plt.xlabel('Iteration Number # (x100)')\n",
    "plt.ylabel('Cost')"
   ]
  },
  {
   "cell_type": "markdown",
   "metadata": {},
   "source": [
    "##### 4.2 Observe the effect of iteration_num on the test accuracy."
   ]
  },
  {
   "cell_type": "code",
   "execution_count": 16,
   "metadata": {},
   "outputs": [
    {
     "data": {
      "text/plain": [
       "0.4974016332590943"
      ]
     },
     "execution_count": 16,
     "metadata": {},
     "output_type": "execute_result"
    },
    {
     "data": {
      "image/png": "[encoded data removed]",
      "text/plain": [
       "<Figure size 432x288 with 1 Axes>"
      ]
     },
     "metadata": {
      "needs_background": "light"
     },
     "output_type": "display_data"
    }
   ],
   "source": [
    "learning_rate = 0.0001\n",
    "iter_num = np.arange(100,1000,100)\n",
    "\n",
    "test_acc = []\n",
    "for iter_n in iter_num:\n",
    "    d = model(X_train.T, y_train.T, X_test.T, y_test.T,iter_n,learning_rate,print_cost=False)\n",
    "    test_acc.append(d[\"test_accuracy\"])\n",
    "    \n",
    "plt.plot(test_acc,label=\"learning rate:{}\".format(learning_rate))\n",
    "plt.legend()\n",
    "plt.xlabel(\"Iteration Number # (x100) \")\n",
    "plt.ylabel(\"Test Accuracy\")\n",
    "    \n",
    "np.mean(y_train) # chance level"
   ]
  },
  {
   "cell_type": "markdown",
   "metadata": {},
   "source": [
    "depending on learning rate, for small learning rate, the more number of iterations, the higher the test accuracy. But for large learning rate, the performance reaches plateau in a few iterations (though accuracy also goes up along with iterations before that), & then the accuracy starts to fluctuate around some level. "
   ]
  },
  {
   "cell_type": "markdown",
   "metadata": {},
   "source": [
    "# Challenge ! ! !\n",
    "\n",
    "The original data have images labeled 0,1,2,3,4,5,6,7,8,9. In our logistic model, we only detect if the digit in the image is larger or smaller than 5. Now, Let's go for a more challenging problem. Try to use softmax function to build a model to recognize which digit (0,1,2,3,4,5,6,7,8,9) is in the image."
   ]
  },
  {
   "cell_type": "markdown",
   "metadata": {},
   "source": [
    "# Congratulations ! You have completed assigment 4. "
   ]
  },
  {
   "cell_type": "code",
   "execution_count": 17,
   "metadata": {},
   "outputs": [
    {
     "name": "stdout",
     "output_type": "stream",
     "text": [
      "[[1. 0. 0. 0. 0. 0. 0. 0. 0. 0.]\n",
      " [0. 0. 0. 0. 1. 0. 0. 0. 0. 0.]\n",
      " [0. 0. 0. 0. 0. 0. 1. 0. 0. 0.]\n",
      " [0. 0. 0. 1. 0. 0. 0. 0. 0. 0.]\n",
      " [0. 0. 0. 0. 0. 0. 1. 0. 0. 0.]]\n"
     ]
    },
    {
     "name": "stderr",
     "output_type": "stream",
     "text": [
      "C:\\Users\\neuro\\AppData\\Local\\Continuum\\anaconda3\\lib\\site-packages\\sklearn\\preprocessing\\_encoders.py:415: FutureWarning: The handling of integer data will change in version 0.22. Currently, the categories are determined based on the range [0, max(values)], while in the future they will be determined based on the unique values.\n",
      "If you want the future behaviour and silence this warning, you can specify \"categories='auto'\".\n",
      "In case you used a LabelEncoder before this OneHotEncoder to convert the categories to integers, then you can now use the OneHotEncoder directly.\n",
      "  warnings.warn(msg, FutureWarning)\n"
     ]
    }
   ],
   "source": [
    "from sklearn.preprocessing import OneHotEncoder\n",
    "onehotencoder = OneHotEncoder(sparse=False)\n",
    "Y = onehotencoder.fit_transform(digits.target.reshape(-1,1))\n",
    "\n",
    "X_train, X_test, Y_train, Y_test = train_test_split(digits.data, Y, test_size=0.25)\n",
    "\n",
    "print(Y_train[:5])"
   ]
  },
  {
   "cell_type": "code",
   "execution_count": 18,
   "metadata": {},
   "outputs": [],
   "source": [
    "def initialize_params(dim,dim_y):\n",
    "    \n",
    "    W = 0.01 * np.random.rand(dim,dim_y)\n",
    "    b = 0.01 * np.random.rand(dim_y,1)\n",
    "    \n",
    "    return W,b\n",
    "\n",
    "# activation function\n",
    "def softmax(z):\n",
    "    E = sum(np.exp(z))\n",
    "    return [np.exp(zz)/E for zz in z]\n",
    "\n",
    "# loss function\n",
    "def cross_entropy(Y,Y_hat):\n",
    "    return np.mean(-np.sum(Y * np.log(Y_hat),axis=1)) # Y: sample_size x dim_y\n",
    "\n",
    "\n",
    "def propagate_multiclass(W,b,X,Y):\n",
    "    \n",
    "    Z = np.add(np.dot(W.T,X),b) \n",
    "    A = np.array(softmax(Z.T)) # sample_size x dim_y\n",
    "    \n",
    "    m = X.shape[1]    \n",
    "    cost = cross_entropy(Y,A)\n",
    "        \n",
    "    dw = 1/m * np.dot(X,(A-Y))\n",
    "    db = np.mean(A-Y, axis=0)\n",
    "        \n",
    "    grads = {'dw':dw,\n",
    "             'db':db}\n",
    "    \n",
    "    return grads, cost\n",
    "\n",
    "\n",
    "# # test\n",
    "# dim = 3; dim_y = 9; sample_size = 30\n",
    "# W,b = initialize_params(dim,dim_y)\n",
    "# X = np.random.rand(dim,sample_size)\n",
    "# Y = np.random.randint(2,size=(sample_size,dim_y))\n",
    "# grads,cost = propagate_multiclass(W,b,X,Y)\n",
    "# print(grads[\"dw\"].shape)\n",
    "# print(grads[\"db\"].shape)"
   ]
  },
  {
   "cell_type": "code",
   "execution_count": 19,
   "metadata": {},
   "outputs": [],
   "source": [
    "\n",
    "def optimize_multiclass(w, b, X, Y, num_iterations, learning_rate, print_cost=False):\n",
    "    \n",
    "    costs = []\n",
    "    \n",
    "    for i in range(num_iterations):\n",
    "        \n",
    "        grads, cost = propagate_multiclass(w,b,X,Y)        \n",
    "        \n",
    "        dw = grads['dw']\n",
    "        db = grads['db']\n",
    "        db = db.reshape((10,1))\n",
    "        \n",
    "        w = w - learning_rate * dw\n",
    "        b = b - learning_rate * db\n",
    "\n",
    "        \n",
    "        if i % 100 == 0:\n",
    "            costs.append(cost)\n",
    "        if print_cost and i % 100 == 0:\n",
    "            print (\"Cost after iteration %i: %f\" %(i, cost))\n",
    "    \n",
    "    params = {\"w\":w,\n",
    "              \"b\":b}\n",
    "    \n",
    "    grads = {\"dw\":dw,\n",
    "             \"db\":db}\n",
    "    \n",
    "    return params, grads, costs\n",
    "\n",
    "\n",
    "def predict_multiclass(W, b, X):\n",
    "    \n",
    "    Z = np.add(np.dot(W.T,X),b) \n",
    "    A = np.array(softmax(Z.T)) # sample_size x dim_y\n",
    "    \n",
    "    m = A.shape[0]\n",
    "    dim_y = A.shape[1]\n",
    "    Y_hat = np.zeros((m,dim_y))\n",
    "    Y_hat[np.arange(m),np.argmax(A,axis=1)] = 1\n",
    "    \n",
    "    return Y_hat\n"
   ]
  },
  {
   "cell_type": "code",
   "execution_count": 20,
   "metadata": {},
   "outputs": [
    {
     "name": "stdout",
     "output_type": "stream",
     "text": [
      "Cost after iteration 0: 7.217997\n",
      "Cost after iteration 100: 7.172796\n",
      "Cost after iteration 200: 7.129200\n",
      "Cost after iteration 300: 7.087222\n",
      "Cost after iteration 400: 7.046879\n",
      "Cost after iteration 500: 7.008182\n",
      "Cost after iteration 600: 6.971146\n",
      "Cost after iteration 700: 6.935782\n",
      "Cost after iteration 800: 6.902103\n",
      "Cost after iteration 900: 6.870117\n",
      "\n",
      "\n",
      "Training Accuracy: [0.99406088 0.94580549 0.95991091 0.97178916 0.98069785 0.94951745\n",
      " 0.98366741 0.97475872 0.92798812 0.94654788]\n",
      "Test Accuracy: [0.99333333 0.93555556 0.96666667 0.97111111 0.98666667 0.96444444\n",
      " 0.98888889 0.96666667 0.93555556 0.94      ]\n"
     ]
    }
   ],
   "source": [
    "def model_multiclass(X_train, Y_train, X_test, Y_test, num_iterations, learning_rate,print_cost=False):\n",
    "    \n",
    "    dim = X_train.shape[0]\n",
    "    dim_y = Y_train.shape[1]\n",
    "    \n",
    "    W,b = initialize_params(dim,dim_y)\n",
    "    \n",
    "    params, grads, cost = optimize_multiclass(W, b, X_train, Y_train, num_iterations, learning_rate, print_cost=print_cost)\n",
    "    \n",
    "    W,b = params[\"w\"],params[\"b\"]\n",
    "    \n",
    "    Y_train_hat = predict_multiclass(W,b,X_train)\n",
    "    Y_test_hat = predict_multiclass(W,b,X_test)\n",
    "    \n",
    "    training_accuracy = np.mean(Y_train_hat == Y_train,axis=0)\n",
    "    test_accuracy = np.mean(Y_test_hat == Y_test,axis=0)\n",
    "    \n",
    "    d = {\"w\":w,\"b\":b,\"training_accuracy\":training_accuracy,\"test_accuracy\":test_accuracy,\"cost\":cost}\n",
    "    \n",
    "    return d\n",
    "\n",
    "\n",
    "num_iterations = 1000\n",
    "learning_rate = 1e-5\n",
    "\n",
    "d = model_multiclass(X_train.T, Y_train, X_test.T, Y_test, num_iterations, learning_rate,print_cost=True)\n",
    "\n",
    "print(\"\\n\\nTraining Accuracy: {}\".format(d[\"training_accuracy\"],\"%.2f\"))\n",
    "print(\"Test Accuracy: {}\".format(d[\"test_accuracy\"],\"%.2f\"))"
   ]
  },
  {
   "cell_type": "code",
   "execution_count": 23,
   "metadata": {},
   "outputs": [
    {
     "data": {
      "text/plain": [
       "array([0.09905398, 0.10127991, 0.0984975 , 0.10183639, 0.10072343,\n",
       "       0.10127991, 0.10072343, 0.09961046, 0.09682805, 0.10016694])"
      ]
     },
     "execution_count": 23,
     "metadata": {},
     "output_type": "execute_result"
    },
    {
     "data": {
      "image/png": "[encoded data removed]",
      "text/plain": [
       "<Figure size 432x288 with 1 Axes>"
      ]
     },
     "metadata": {
      "needs_background": "light"
     },
     "output_type": "display_data"
    }
   ],
   "source": [
    "from collections import Counter\n",
    "counts = Counter(digits.target)\n",
    "counts = dict(counts)\n",
    "plt.bar(counts.keys(),counts.values())\n",
    "plt.xlabel('Digit number')\n",
    "plt.ylabel('Counts')\n",
    "plt.title('True label distribution')\n",
    "\n",
    "\n",
    "counts = np.array(list(counts.values()))\n",
    "probs = counts/np.sum(counts)\n",
    "chance_level = np.mean(probs)\n",
    "probs"
   ]
  },
  {
   "cell_type": "code",
   "execution_count": 25,
   "metadata": {},
   "outputs": [
    {
     "data": {
      "text/plain": [
       "Text(0, 0.5, 'Classification Accuracy')"
      ]
     },
     "execution_count": 25,
     "metadata": {},
     "output_type": "execute_result"
    },
    {
     "data": {
      "image/png": "[encoded data removed]",
      "text/plain": [
       "<Figure size 432x288 with 1 Axes>"
      ]
     },
     "metadata": {
      "needs_background": "light"
     },
     "output_type": "display_data"
    }
   ],
   "source": [
    "plt.plot(d[\"training_accuracy\"],label=\"training_accuracy\")\n",
    "plt.plot(d[\"test_accuracy\"],label=\"test_accuracy\")\n",
    "plt.axhline(y=chance_level,linestyle='--')\n",
    "plt.legend()\n",
    "plt.xlabel('Digit number')\n",
    "plt.ylabel('Classification Accuracy')"
   ]
  },
  {
   "cell_type": "code",
   "execution_count": null,
   "metadata": {},
   "outputs": [],
   "source": []
  }
 ],
 "metadata": {
  "kernelspec": {
   "display_name": "Python 3",
   "language": "python",
   "name": "python3"
  },
  "language_info": {
   "codemirror_mode": {
    "name": "ipython",
    "version": 3
   },
   "file_extension": ".py",
   "mimetype": "text/x-python",
   "name": "python",
   "nbconvert_exporter": "python",
   "pygments_lexer": "ipython3",
   "version": "3.7.4"
  }
 },
 "nbformat": 4,
 "nbformat_minor": 2
}
