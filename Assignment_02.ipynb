{
 "cells": [
  {
   "cell_type": "markdown",
   "metadata": {},
   "source": [
    "# Assignment 2\n"
   ]
  },
  {
   "cell_type": "markdown",
   "metadata": {},
   "source": [
    "#### 1. 复习上课内容以及复现课程代码"
   ]
  },
  {
   "cell_type": "markdown",
   "metadata": {},
   "source": [
    "在本部分，你需要在复习上课内容和课程代码后，复现课程代码。 "
   ]
  },
  {
   "cell_type": "markdown",
   "metadata": {},
   "source": [
    "done. On another script."
   ]
  },
  {
   "cell_type": "markdown",
   "metadata": {},
   "source": [
    "#### 2. 回答以下理论题目"
   ]
  },
  {
   "cell_type": "markdown",
   "metadata": {},
   "source": [
    "###       < 评阅点 >： 答案是否正确完整"
   ]
  },
  {
   "cell_type": "markdown",
   "metadata": {},
   "source": [
    "###### 2.1 What conditions are required to make the BFS return the optimal solution ?"
   ]
  },
  {
   "cell_type": "markdown",
   "metadata": {},
   "source": [
    "1. costs >= 0\n",
    "2. sort the list of pathes traversed each iteration according to the desired optimality"
   ]
  },
  {
   "cell_type": "markdown",
   "metadata": {},
   "source": [
    "##### 2.2 Is there a way to make DFS find the optimal solution ? (You may need to read some material about iterative DFS)"
   ]
  },
  {
   "cell_type": "markdown",
   "metadata": {},
   "source": [
    "IDDFS (iterative deepening depth-first search) could find an optimal solution like BFS but with much less memory. It visits nodes in the order as DFS, but the cumulative order in which nodes are first visited is effectively breadth-first."
   ]
  },
  {
   "cell_type": "markdown",
   "metadata": {},
   "source": [
    "##### 2.3 In what conditions BFS is a better choice than DFS and vice versa ?"
   ]
  },
  {
   "cell_type": "markdown",
   "metadata": {},
   "source": [
    "If optimality is required, then BFS is a better choice than DFS. If optimality is not required but storage/memory is limited, DFS is a better choice because it has lower time complexity than BFS."
   ]
  },
  {
   "cell_type": "markdown",
   "metadata": {},
   "source": [
    "##### 2.4 When can we use machine learning ?"
   ]
  },
  {
   "cell_type": "markdown",
   "metadata": {},
   "source": [
    "We can use machine learning when we have a proper dataset and we wish to make predictions based on them. Machine learning is the study of how to make programs improve their performance on certain tasks form experience (Tom Mitchell, 1996). Therefore, whenever we want to accomplish some task (in principle any task involving information processing & decision making) with better performance than in a tradional way, we could think of machine learning. "
   ]
  },
  {
   "cell_type": "markdown",
   "metadata": {},
   "source": [
    "##### 2.5 What is the gradient of a function ?"
   ]
  },
  {
   "cell_type": "markdown",
   "metadata": {},
   "source": [
    "the partial derivative of the function, i.e. if the function is written as f(x,y,z), then its gradient is (df/dx,df/dy,df/dz)\n"
   ]
  },
  {
   "cell_type": "markdown",
   "metadata": {},
   "source": [
    "##### 2.6 How can we find the maximum value of a function using the information of gradient ?"
   ]
  },
  {
   "cell_type": "markdown",
   "metadata": {},
   "source": [
    "If the function is convex (concave), then its minimum (maximum) can be found by setting its gradient equal to 0."
   ]
  },
  {
   "cell_type": "markdown",
   "metadata": {},
   "source": [
    "#### 3. 实践部分  寻找地铁路线"
   ]
  },
  {
   "cell_type": "markdown",
   "metadata": {},
   "source": [
    "### < 评阅点 >  1: 爬虫爬取数据是否完整;  2:搜索算法是否正确"
   ]
  },
  {
   "cell_type": "markdown",
   "metadata": {},
   "source": [
    "In this part, although we recommend you to use Beijing subway, you still can use the subway map of any cities that you are interested in. "
   ]
  },
  {
   "cell_type": "markdown",
   "metadata": {},
   "source": [
    "![title](img/ditu.png)"
   ]
  },
  {
   "cell_type": "markdown",
   "metadata": {},
   "source": [
    "Please using the search policy to implement an agent. This agent receives two input, one is @param start station and the other is @param destination. Your agent should give the optimal route based on Beijing Subway system."
   ]
  },
  {
   "cell_type": "markdown",
   "metadata": {},
   "source": [
    "Deadline: 2019-October-27"
   ]
  },
  {
   "cell_type": "markdown",
   "metadata": {},
   "source": [
    "#### Procedures"
   ]
  },
  {
   "cell_type": "markdown",
   "metadata": {},
   "source": [
    "#### 1. Get data from web.  "
   ]
  },
  {
   "cell_type": "markdown",
   "metadata": {},
   "source": [
    "Some tips: "
   ]
  },
  {
   "cell_type": "markdown",
   "metadata": {},
   "source": [
    "a. You might need this package: requests[https://2.python-requests.org/en/master/] to get webpages"
   ]
  },
  {
   "cell_type": "markdown",
   "metadata": {},
   "source": [
    "b.You might need to use Regular Expression and Beautiful Soap package to parse the webpages"
   ]
  },
  {
   "cell_type": "code",
   "execution_count": 1,
   "metadata": {},
   "outputs": [],
   "source": [
    "# 爬取北京地铁数据，此部分参考：https://blog.csdn.net/gdhy9064/article/details/90070793\n",
    "\n",
    "import requests\n",
    "import time\n",
    "\n",
    "null = None \n",
    "city_code = 131\n",
    "station_info = requests.get('http://map.baidu.com/?qt=bsi&c=%s&t=%s' % (\n",
    "                    city_code, \n",
    "                    int(time.time() * 1000)\n",
    "               )\n",
    ")\n",
    "station_info_json = eval(station_info.content) "
   ]
  },
  {
   "cell_type": "markdown",
   "metadata": {},
   "source": [
    "##### 2. Preprocessing data"
   ]
  },
  {
   "cell_type": "markdown",
   "metadata": {},
   "source": [
    "Some tips:"
   ]
  },
  {
   "cell_type": "markdown",
   "metadata": {},
   "source": [
    "a. Find a suitable way to save the data you get from the web. (Note: The way you use to save the data should be able to be used to create the graph that your agent is going to explore)"
   ]
  },
  {
   "cell_type": "code",
   "execution_count": 2,
   "metadata": {},
   "outputs": [
    {
     "name": "stdout",
     "output_type": "stream",
     "text": [
      "340\n",
      "47\n"
     ]
    }
   ],
   "source": [
    "city_conn = {} # {line1: [stop1,stop2, ...],line2: [stop1,stop2, ...],...}\n",
    "city_coor = {} # {stop1: (coor_x,coor_y), stop2: (coor_x,coor_y), ...}\n",
    "for subway in station_info_json['content']:\n",
    "    uid_name = subway['line_name']\n",
    "    stops = subway['stops']\n",
    "    path = []\n",
    "    for stop in stops:\n",
    "        if stop['name'] not in city_coor.keys():\n",
    "            city_coor[stop['name']] = (stop['x'],stop['y']) \n",
    "        path.append(stop['name'])\n",
    "    city_conn[uid_name] = path\n",
    "    \n",
    "\n",
    "# print(city_conn)\n",
    "print(len(city_coor.keys())) # 340 stops in total\n",
    "print(len(city_conn.keys())) # 47 lines in total"
   ]
  },
  {
   "cell_type": "code",
   "execution_count": 3,
   "metadata": {},
   "outputs": [
    {
     "name": "stdout",
     "output_type": "stream",
     "text": [
      "defaultdict(<class 'list'>, {'西苑': ['农大南路', '圆明园', '北宫门'], '农大南路': ['马连洼', '西苑'], '马连洼': ['西北旺', '农大南路'], '西北旺': ['永丰南', '马连洼'], '永丰南': ['永丰', '西北旺'], '永丰': ['屯佃', '永丰南'], '屯佃': ['稻香湖路', '永丰'], '稻香湖路': ['温阳路', '屯佃'], '温阳路': ['北安河', '稻香湖路'], '石厂': ['小园'], '小园': ['栗园庄', '石厂'], '栗园庄': ['上岸', '小园'], '上岸': ['桥户营', '栗园庄'], '桥户营': ['四道桥', '上岸'], '四道桥': ['金安桥', '桥户营'], '大兴机场': ['大兴新城'], '大兴新城': ['草桥', '大兴机场'], '阎村东': ['紫草坞', '苏庄'], '紫草坞': ['阎村', '阎村东'], '阎村': ['星城', '紫草坞'], '星城': ['大石河东', '阎村'], '大石河东': ['马各庄', '星城'], '马各庄': ['饶乐府', '大石河东'], '饶乐府': ['房山城关', '马各庄'], '房山城关': ['燕山', '饶乐府'], '香山': ['植物园'], '植物园': ['万安', '香山'], '万安': ['茶棚', '植物园'], '茶棚': ['颐和园西门', '万安'], '颐和园西门': ['巴沟', '茶棚'], '金安桥': ['四道桥', '杨庄'], '清华东路西口': ['六道口'], '六道口': ['北沙滩', '清华东路西口'], '北沙滩': ['奥林匹克公园', '六道口'], '奥林匹克公园': ['安立路', '森林公园南门', '北沙滩', '奥体中心'], '安立路': ['大屯路东', '奥林匹克公园'], '大屯路东': ['关庄', '安立路', '北苑路北', '惠新西街北口'], '关庄': ['望京西', '大屯路东'], '望京西': ['望京', '关庄', '北苑', '芍药居'], '望京': ['望京东', '望京西', '东湖渠', '阜通'], '望京东': ['崔各庄', '望京'], '崔各庄': ['马泉营', '望京东'], '马泉营': ['孙河', '崔各庄'], '孙河': ['国展', '马泉营'], '国展': ['花梨坎', '孙河'], '花梨坎': ['后沙峪', '国展'], '后沙峪': ['南法信', '花梨坎'], '南法信': ['石门', '后沙峪'], '石门': ['顺义', '南法信'], '顺义': ['俸伯', '石门'], '中国美术馆': ['南锣鼓巷'], '南锣鼓巷': ['什刹海', '东四', '北海北', '中国美术馆'], '什刹海': ['鼓楼大街', '南锣鼓巷'], '鼓楼大街': ['安德里北街', '什刹海', '安定门', '积水潭'], '安德里北街': ['安华桥', '鼓楼大街'], '安华桥': ['北土城', '安德里北街'], '北土城': ['奥体中心', '安华桥', '健德门', '安贞门'], '奥体中心': ['奥林匹克公园', '北土城'], '森林公园南门': ['林萃桥', '奥林匹克公园'], '林萃桥': ['永泰庄', '森林公园南门'], '永泰庄': ['西小口', '林萃桥'], '西小口': ['育新', '永泰庄'], '育新': ['霍营', '西小口'], '霍营': ['回龙观东大街', '育新', '回龙观', '立水桥'], '回龙观东大街': ['平西府', '霍营'], '平西府': ['育知路', '回龙观东大街'], '育知路': ['朱辛庄', '平西府'], '俸伯': ['顺义'], '北京南站': ['永定门外', '马家堡', '陶然亭'], '永定门外': ['景泰', '北京南站', '木樨园', '天桥'], '景泰': ['蒲黄榆', '永定门外'], '蒲黄榆': ['方庄', '景泰', '天坛东门', '刘家窑'], '方庄': ['十里河', '蒲黄榆'], '十里河': ['北工大西门', '方庄', '潘家园', '分钟寺'], '北工大西门': ['平乐园', '十里河'], '平乐园': ['九龙山', '北工大西门'], '九龙山': ['大望路', '平乐园', '双井', '大郊亭'], '大望路': ['金台路', '九龙山', '四惠', '国贸'], '金台路': ['朝阳公园', '大望路', '十里堡', '呼家楼'], '朝阳公园': ['枣营', '金台路'], '枣营': ['东风北桥', '朝阳公园'], '东风北桥': ['将台', '枣营'], '将台': ['望京南', '东风北桥'], '望京南': ['阜通', '将台'], '阜通': ['望京', '望京南'], '东湖渠': ['来广营', '望京'], '来广营': ['善各庄', '东湖渠'], '西局': ['七里庄', '泥洼', '六里桥'], '七里庄': ['大井', '丰台东大街', '西局', '六里桥'], '大井': ['郭庄子', '七里庄'], '郭庄子': ['大瓦窑', '大井'], '大瓦窑': ['园博园', '郭庄子'], '园博园': ['张郭庄', '大瓦窑'], '昌平西山口': ['十三陵景区'], '十三陵景区': ['昌平', '昌平西山口'], '昌平': ['昌平东关', '十三陵景区'], '昌平东关': ['北邵洼', '昌平'], '北邵洼': ['南邵', '昌平东关'], '南邵': ['沙河高教园', '北邵洼'], '沙河高教园': ['沙河', '南邵'], '沙河': ['巩华城', '沙河高教园'], '巩华城': ['朱辛庄', '沙河'], '朱辛庄': ['生命科学园', '巩华城', '育知路'], '生命科学园': ['西二旗', '朱辛庄'], '善各庄': ['来广营'], '西二旗': ['生命科学园', '清河', '龙泽'], '郭公庄': ['大葆台', '丰台科技园'], '大葆台': ['稻田', '郭公庄'], '稻田': ['长阳', '大葆台'], '长阳': ['篱笆房', '稻田'], '篱笆房': ['广阳城', '长阳'], '广阳城': ['良乡大学城北', '篱笆房'], '良乡大学城北': ['良乡大学城', '广阳城'], '良乡大学城': ['良乡大学城西', '良乡大学城北'], '良乡大学城西': ['良乡南关', '良乡大学城'], '良乡南关': ['苏庄', '良乡大学城西'], '苏庄': ['阎村东', '良乡南关'], '安河桥北': ['北宫门'], '北宫门': ['西苑', '安河桥北'], '圆明园': ['北京大学东门', '西苑'], '北京大学东门': ['中关村', '圆明园'], '中关村': ['海淀黄庄', '北京大学东门'], '海淀黄庄': ['人民大学', '中关村', '苏州街', '知春里'], '人民大学': ['魏公村', '海淀黄庄'], '魏公村': ['国家图书馆', '人民大学'], '国家图书馆': ['动物园', '白石桥南', '魏公村'], '动物园': ['西直门', '国家图书馆'], '西直门': ['新街口', '动物园', '积水潭', '车公庄', '大钟寺'], '新街口': ['平安里', '西直门'], '平安里': ['西四', '北海北', '车公庄', '新街口'], '西四': ['灵境胡同', '平安里'], '灵境胡同': ['西单', '西四'], '西单': ['宣武门', '灵境胡同', '天安门西', '复兴门'], '宣武门': ['菜市口', '西单', '长椿街', '和平门'], '菜市口': ['陶然亭', '广安门内', '宣武门', '虎坊桥'], '陶然亭': ['北京南站', '菜市口'], '马家堡': ['角门西', '北京南站'], '角门西': ['公益西桥', '马家堡', '角门东', '草桥'], '公益西桥': ['新宫', '角门西'], '新宫': ['西红门', '公益西桥'], '西红门': ['高米店北', '新宫'], '高米店北': ['高米店南', '西红门'], '高米店南': ['枣园', '高米店北'], '枣园': ['清源路', '高米店南'], '清源路': ['黄村西大街', '枣园'], '黄村西大街': ['黄村火车站', '清源路'], '黄村火车站': ['义和庄', '黄村西大街'], '义和庄': ['生物医药基地', '黄村火车站'], '生物医药基地': ['天宫院', '义和庄'], '花庄': ['高楼金', '土桥'], '高楼金': ['群芳', '花庄'], '群芳': ['万盛东', '高楼金'], '万盛东': ['万盛西', '群芳'], '万盛西': ['黑庄户', '万盛东'], '黑庄户': ['郎辛庄', '万盛西'], '郎辛庄': ['黄厂', '黑庄户'], '黄厂': ['焦化厂', '郎辛庄'], '焦化厂': ['双合', '黄厂'], '双合': ['垡头', '焦化厂'], '垡头': ['欢乐谷景区', '双合'], '欢乐谷景区': ['南楼梓庄', '垡头'], '南楼梓庄': ['化工', '欢乐谷景区'], '化工': ['百子湾', '南楼梓庄'], '百子湾': ['大郊亭', '化工'], '大郊亭': ['九龙山', '百子湾'], '双井': ['广渠门外', '九龙山', '国贸', '劲松'], '广渠门外': ['广渠门内', '双井'], '广渠门内': ['磁器口', '广渠门外'], '磁器口': ['桥湾', '广渠门内', '崇文门', '天坛东门'], '桥湾': ['珠市口', '磁器口'], '珠市口': ['虎坊桥', '桥湾', '天桥'], '虎坊桥': ['菜市口', '珠市口'], '广安门内': ['达官营', '菜市口'], '达官营': ['湾子', '广安门内'], '湾子': ['北京西站', '达官营'], '亦庄火车站': ['次渠'], '次渠': ['次渠南', '亦庄火车站'], '次渠南': ['经海路', '次渠'], '经海路': ['同济南路', '次渠南'], '同济南路': ['荣昌东街', '经海路'], '荣昌东街': ['荣京东街', '同济南路'], '荣京东街': ['万源街', '荣昌东街'], '万源街': ['亦庄文化园', '荣京东街'], '亦庄文化园': ['亦庄桥', '万源街'], '亦庄桥': ['旧宫', '亦庄文化园'], '旧宫': ['小红门', '亦庄桥'], '小红门': ['肖村', '旧宫'], '肖村': ['宋家庄', '小红门'], '白石桥南': ['白堆子', '车公庄西', '国家图书馆', '花园桥'], '白堆子': ['军事博物馆', '白石桥南'], '军事博物馆': ['北京西站', '白堆子', '木樨地', '公主坟'], '北京西站': ['六里桥东', '军事博物馆', '湾子'], '六里桥东': ['六里桥', '北京西站'], '六里桥': ['七里庄', '六里桥东', '西局', '莲花桥'], '丰台东大街': ['丰台南路', '七里庄'], '丰台南路': ['科怡路', '丰台东大街'], '科怡路': ['丰台科技园', '丰台南路'], '丰台科技园': ['郭公庄', '科怡路'], '宋家庄': ['肖村', '刘家窑', '成寿寺', '石榴庄'], '张郭庄': ['园博园'], '杨庄': ['西黄村', '金安桥'], '西黄村': ['廖公庄', '杨庄'], '廖公庄': ['田村', '西黄村'], '田村': ['海淀五路居', '廖公庄'], '海淀五路居': ['慈寿寺', '田村'], '慈寿寺': ['花园桥', '海淀五路居', '西钓鱼台', '车道沟'], '花园桥': ['白石桥南', '慈寿寺'], '车公庄西': ['车公庄', '白石桥南'], '车公庄': ['平安里', '车公庄西', '西直门', '阜成门'], '北海北': ['南锣鼓巷', '平安里'], '东四': ['朝阳门', '南锣鼓巷', '张自忠路', '灯市口'], '朝阳门': ['东大桥', '东四', '建国门', '东四十条'], '东大桥': ['呼家楼', '朝阳门'], '呼家楼': ['金台路', '东大桥', '团结湖', '金台夕照'], '十里堡': ['青年路', '金台路'], '青年路': ['褡裢坡', '十里堡'], '褡裢坡': ['黄渠', '青年路'], '黄渠': ['常营', '褡裢坡'], '常营': ['草房', '黄渠'], '草房': ['物资学院路', '常营'], '物资学院路': ['通州北关', '草房'], '通州北关': ['北运河西', '物资学院路'], '北运河西': ['北运河东', '通州北关'], '北运河东': ['郝家府', '北运河西'], '郝家府': ['东夏园', '北运河东'], '东夏园': ['潞城', '郝家府'], '潞城': ['东夏园'], '天宫院': ['生物医药基地'], '巴沟': ['颐和园西门', '火器营', '苏州街'], '燕山': ['房山城关'], '天桥': ['永定门外', '珠市口'], '木樨园': ['海户屯', '永定门外'], '海户屯': ['大红门南', '木樨园'], '大红门南': ['和义', '海户屯'], '和义': ['东高地', '大红门南'], '东高地': ['火箭万源', '和义'], '火箭万源': ['五福堂', '东高地'], '五福堂': ['德茂', '火箭万源'], '德茂': ['瀛海', '五福堂'], '瀛海': ['德茂'], '草桥': ['大兴新城', '角门西', '纪家庙'], '北安河': ['温阳路'], '积水潭': ['鼓楼大街', '西直门'], '安定门': ['雍和宫', '鼓楼大街'], '雍和宫': ['东直门', '和平里北街', '安定门', '北新桥'], '东直门': ['东四十条', '三元桥', '雍和宫', '柳芳'], '东四十条': ['朝阳门', '东直门'], '建国门': ['北京站', '永安里', '东单', '朝阳门'], '北京站': ['崇文门', '建国门'], '崇文门': ['前门', '东单', '北京站', '磁器口'], '前门': ['和平门', '崇文门'], '和平门': ['宣武门', '前门'], '长椿街': ['复兴门', '宣武门'], '复兴门': ['阜成门', '西单', '南礼士路', '长椿街'], '阜成门': ['车公庄', '复兴门'], '三元桥': ['3号航站楼', '东直门', '太阳宫', '亮马桥'], '3号航站楼': ['2号航站楼'], '2号航站楼': ['三元桥'], '苹果园': ['古城'], '古城': ['八角游乐园', '苹果园'], '八角游乐园': ['八宝山', '古城'], '八宝山': ['玉泉路', '八角游乐园'], '玉泉路': ['五棵松', '八宝山'], '五棵松': ['万寿路', '玉泉路'], '万寿路': ['公主坟', '五棵松'], '公主坟': ['军事博物馆', '万寿路', '莲花桥', '西钓鱼台'], '木樨地': ['南礼士路', '军事博物馆'], '南礼士路': ['复兴门', '木樨地'], '天安门西': ['天安门东', '西单'], '天安门东': ['王府井', '天安门西'], '王府井': ['东单', '天安门东'], '东单': ['建国门', '灯市口', '王府井', '崇文门'], '永安里': ['国贸', '建国门'], '国贸': ['大望路', '永安里', '金台夕照', '双井'], '四惠': ['四惠东', '大望路', '四惠东'], '刘家窑': ['蒲黄榆', '宋家庄'], '天坛东门': ['磁器口', '蒲黄榆'], '灯市口': ['东四', '东单'], '张自忠路': ['北新桥', '东四'], '北新桥': ['雍和宫', '张自忠路'], '和平里北街': ['和平西桥', '雍和宫'], '和平西桥': ['惠新西街南口', '和平里北街'], '惠新西街南口': ['惠新西街北口', '安贞门', '和平西桥', '芍药居'], '惠新西街北口': ['大屯路东', '惠新西街南口'], '北苑路北': ['立水桥南', '大屯路东'], '立水桥南': ['立水桥', '北苑路北'], '立水桥': ['天通苑南', '立水桥南', '霍营', '北苑'], '天通苑南': ['天通苑', '立水桥'], '天通苑': ['天通苑北', '天通苑南'], '四惠东': ['四惠', '四惠', '高碑店'], '土桥': ['临河里', '花庄'], '临河里': ['梨园', '土桥'], '梨园': ['九棵树', '临河里'], '九棵树': ['果园', '梨园'], '果园': ['通州北苑', '九棵树'], '通州北苑': ['八里桥', '果园'], '八里桥': ['管庄', '通州北苑'], '管庄': ['双桥', '八里桥'], '双桥': ['传媒大学', '管庄'], '传媒大学': ['高碑店', '双桥'], '高碑店': ['四惠东', '传媒大学'], '车道沟': ['慈寿寺', '长春桥'], '西钓鱼台': ['公主坟', '慈寿寺'], '莲花桥': ['六里桥', '公主坟'], '泥洼': ['丰台站', '西局'], '丰台站': ['首经贸', '泥洼'], '首经贸': ['纪家庙', '丰台站'], '纪家庙': ['草桥', '首经贸'], '角门东': ['大红门', '角门西'], '大红门': ['石榴庄', '角门东'], '石榴庄': ['宋家庄', '大红门'], '成寿寺': ['分钟寺', '宋家庄'], '分钟寺': ['十里河', '成寿寺'], '潘家园': ['劲松', '十里河'], '劲松': ['双井', '潘家园'], '金台夕照': ['呼家楼', '国贸'], '团结湖': ['农业展览馆', '呼家楼'], '农业展览馆': ['亮马桥', '团结湖'], '亮马桥': ['三元桥', '农业展览馆'], '太阳宫': ['芍药居', '三元桥'], '芍药居': ['惠新西街南口', '望京西', '太阳宫', '光熙门'], '安贞门': ['北土城', '惠新西街南口'], '健德门': ['牡丹园', '北土城'], '牡丹园': ['西土城', '健德门'], '西土城': ['知春路', '牡丹园'], '知春路': ['知春里', '大钟寺', '西土城', '五道口'], '知春里': ['海淀黄庄', '知春路'], '苏州街': ['巴沟', '海淀黄庄'], '火器营': ['长春桥', '巴沟'], '长春桥': ['车道沟', '火器营'], '天通苑北': ['天通苑'], '柳芳': ['光熙门', '东直门'], '光熙门': ['芍药居', '柳芳'], '北苑': ['立水桥', '望京西'], '回龙观': ['龙泽', '霍营'], '龙泽': ['西二旗', '回龙观'], '清河': ['上地', '西二旗'], '上地': ['五道口', '清河'], '五道口': ['知春路', '上地'], '大钟寺': ['西直门', '知春路']})\n"
     ]
    }
   ],
   "source": [
    "from collections import defaultdict\n",
    "\n",
    "def build_connection(city_conn):\n",
    "    conn_stop = defaultdict(list)\n",
    "    conn_line = defaultdict(list)\n",
    "    for line in city_conn:\n",
    "        stops = city_conn[line].copy()\n",
    "        while stops:\n",
    "            stop = stops.pop(0)\n",
    "            if len(stops) != 0:\n",
    "                next_stop = stops[0]\n",
    "                conn_stop[stop].append(next_stop)\n",
    "                conn_line[stop].append(line)\n",
    "    return conn_stop,conn_line\n",
    "\n",
    "conn_stop,conn_line = build_connection(city_conn)  \n",
    "\n",
    "print(conn_stop)\n",
    "# print(conn_stop[\"西直门\"]) # stops connected to stop_xx\n",
    "# print(conn_line[\"西直门\"]) # lines connecting stop_xx"
   ]
  },
  {
   "cell_type": "code",
   "execution_count": 4,
   "metadata": {},
   "outputs": [
    {
     "name": "stderr",
     "output_type": "stream",
     "text": [
      "C:\\Users\\neuro\\AppData\\Local\\Continuum\\anaconda3\\lib\\site-packages\\networkx\\drawing\\nx_pylab.py:579: MatplotlibDeprecationWarning: \n",
      "The iterable function was deprecated in Matplotlib 3.1 and will be removed in 3.3. Use np.iterable instead.\n",
      "  if not cb.iterable(width):\n"
     ]
    },
    {
     "data": {
      "image/png": "[encoded data removed]",
      "text/plain": [
       "<Figure size 432x288 with 1 Axes>"
      ]
     },
     "metadata": {},
     "output_type": "display_data"
    }
   ],
   "source": [
    "import networkx as nx\n",
    "import matplotlib.pyplot as plt\n",
    "%matplotlib inline\n",
    "plt.rcParams['font.sans-serif'] = ['SimHei']\n",
    "\n",
    "city_graph = nx.Graph(conn_stop)\n",
    "city_graph.add_nodes_from(list(city_coor.keys()))\n",
    "nx.draw(city_graph,city_coor,node_size=10,with_labels=False)"
   ]
  },
  {
   "cell_type": "markdown",
   "metadata": {},
   "source": [
    "#### 3. Build the search agent"
   ]
  },
  {
   "cell_type": "markdown",
   "metadata": {},
   "source": [
    "Build the search agent based ont he graph you built."
   ]
  },
  {
   "cell_type": "markdown",
   "metadata": {},
   "source": [
    "for example, if you use Beijing subway graoh, and you run:"
   ]
  },
  {
   "cell_type": "markdown",
   "metadata": {},
   "source": [
    "\\>>> search(\"奥体中心“，”天安门“）"
   ]
  },
  {
   "cell_type": "markdown",
   "metadata": {},
   "source": [
    "You should get the result as follows: 奥体中心 -> A ->B ->C ... -> 天安门"
   ]
  },
  {
   "cell_type": "code",
   "execution_count": 5,
   "metadata": {},
   "outputs": [
    {
     "name": "stdout",
     "output_type": "stream",
     "text": [
      "['奥体中心', '北土城', '安华桥', '安德里北街', '鼓楼大街', '积水潭', '西直门', '车公庄', '阜成门', '复兴门', '西单', '天安门西']\n",
      "途径 11 站\n"
     ]
    }
   ],
   "source": [
    "# BFS\n",
    "\n",
    "def search(graph,start,destination,search_strategy=lambda x:x):\n",
    "    pathes = [[start]]\n",
    "    visited = set()\n",
    "    \n",
    "    while pathes:\n",
    "        path = pathes.pop(0)\n",
    "        frontier = path[-1]\n",
    "        if frontier in visited : continue\n",
    "            \n",
    "        if frontier == destination:\n",
    "            return path\n",
    "        \n",
    "        successors = graph[frontier]\n",
    "\n",
    "        for stop in successors:\n",
    "            if stop in path: continue  # check for loop\n",
    "            \n",
    "            new_path = path+[stop]\n",
    "            \n",
    "            pathes.append(new_path)  #bfs\n",
    "            \n",
    "        pathes = search_strategy(pathes)\n",
    "        visited.add(frontier) \n",
    "#         if pathes and (destination == pathes[0][-1]):\n",
    "#             return pathes[0]  \n",
    "\n",
    "        \n",
    "path = search(conn_stop,\"奥体中心\",\"天安门西\")\n",
    "\n",
    "print(path)\n",
    "print(\"途径 {} 站\".format(len(path)-1))"
   ]
  },
  {
   "cell_type": "markdown",
   "metadata": {},
   "source": [
    "### (Optional) Improve your agent to make it able to find a path based on different strategies"
   ]
  },
  {
   "cell_type": "markdown",
   "metadata": {},
   "source": [
    "###  <评阅点> : 是否正确得到不同目标下的路径。"
   ]
  },
  {
   "cell_type": "markdown",
   "metadata": {},
   "source": [
    "Some ideas you might want to try:"
   ]
  },
  {
   "cell_type": "markdown",
   "metadata": {},
   "source": [
    "a. Find the shortest path between two stations."
   ]
  },
  {
   "cell_type": "markdown",
   "metadata": {},
   "source": [
    "b. Find the path that requires minimum transfers between two stations."
   ]
  },
  {
   "cell_type": "markdown",
   "metadata": {},
   "source": [
    "c. Combine the previous two ideas, find a more suitable path."
   ]
  },
  {
   "cell_type": "markdown",
   "metadata": {},
   "source": [
    "Compare your results with results obtained by using some apps such as Baidu map, A map, Google map or Apple map. If there is difference, try to explanate it."
   ]
  },
  {
   "cell_type": "code",
   "execution_count": 6,
   "metadata": {},
   "outputs": [
    {
     "name": "stdout",
     "output_type": "stream",
     "text": [
      "['奥体中心', '北土城', '安华桥', '安德里北街', '鼓楼大街', '什刹海', '南锣鼓巷', '东四', '灯市口', '东单', '王府井', '天安门东', '天安门西']\n",
      "途径 12 站\n"
     ]
    }
   ],
   "source": [
    "import numpy as np\n",
    "import scipy \n",
    "\n",
    "def sort_by_distance(pathes):\n",
    "    def get_distance_of_path(path):\n",
    "        distance = 0\n",
    "        for i,_ in enumerate(path[:-1]):\n",
    "            distance += get_distance(path[i],path[i+1])\n",
    "        return distance\n",
    "    return sorted(pathes,key=get_distance_of_path,reverse=False)\n",
    "\n",
    "\n",
    "def get_distance(stopA,stopB):\n",
    "    posA = city_coor[stopA]\n",
    "    posB = city_coor[stopB]\n",
    "    X = np.array([list(posA),list(posB)])\n",
    "    return scipy.spatial.distance.pdist(X)\n",
    "\n",
    "        \n",
    "path = search(conn_stop,\"奥体中心\",\"天安门西\",search_strategy=sort_by_distance)\n",
    "\n",
    "print(path)\n",
    "print(\"途径 {} 站\".format(len(path)-1))"
   ]
  },
  {
   "cell_type": "code",
   "execution_count": 7,
   "metadata": {},
   "outputs": [
    {
     "name": "stdout",
     "output_type": "stream",
     "text": [
      "['奥体中心', '北土城', '安华桥', '安德里北街', '鼓楼大街', '积水潭', '西直门', '车公庄', '阜成门', '复兴门', '西单', '天安门西']\n",
      "途径 11 站\n",
      "换乘 2 次\n"
     ]
    }
   ],
   "source": [
    "# identify the line which connects two neighbor stops \n",
    "def connect_line(stopA,stopB):\n",
    "    next_stops = conn_stop[stopA]\n",
    "    idx = [i for (i,s) in enumerate(next_stops) if s == stopB][0]\n",
    "    con_line= conn_line[stopA][idx]\n",
    "    return con_line\n",
    "\n",
    "# find the lines traversed from the start to the end of the path\n",
    "def go_through_line(path):\n",
    "    lines = []\n",
    "    for idx,stop in enumerate(path[:-1]):\n",
    "        con_line = connect_line(stop,path[idx+1])\n",
    "        lines.append(con_line)\n",
    "    return lines\n",
    "\n",
    "# number of the lines \n",
    "def count_switch(path):\n",
    "    return len(list(set(go_through_line(path))))-1\n",
    "\n",
    "def sort_by_switch(pathes):\n",
    "    def count_switch(path):\n",
    "        switches = len(list(set(go_through_line(path))))-1\n",
    "        return switches\n",
    "    return sorted(pathes,key=count_switch,reverse=False)\n",
    "\n",
    "\n",
    "path = search(conn_stop,\"奥体中心\",\"天安门西\",search_strategy=sort_by_switch)\n",
    "\n",
    "print(path)\n",
    "print(\"途径 {} 站\".format(len(path)-1))\n",
    "\n",
    "switches = count_switch(path)\n",
    "print(\"换乘 {} 次\".format(switches))"
   ]
  },
  {
   "cell_type": "code",
   "execution_count": 8,
   "metadata": {},
   "outputs": [
    {
     "name": "stdout",
     "output_type": "stream",
     "text": [
      "['奥体中心', '北土城', '安华桥', '安德里北街', '鼓楼大街', '什刹海', '南锣鼓巷', '东四', '灯市口', '东单', '王府井', '天安门东', '天安门西']\n",
      "途径 12 站\n",
      "换乘 2 次\n"
     ]
    }
   ],
   "source": [
    "# search_strategy combining the least switch and the shortest (physical) path \n",
    "# least switches as the priority; when the swtiches are tied, consider the path length\n",
    "\n",
    "def search(graph,start,destination,search_strategy=lambda x:x,additional_ss=lambda x:x):\n",
    "    pathes = [[start]]\n",
    "    visited = set()\n",
    "    \n",
    "    while pathes:\n",
    "        path = pathes.pop(0)\n",
    "        frontier = path[-1]\n",
    "        if frontier in visited : continue\n",
    "            \n",
    "        if frontier == destination:\n",
    "            return path\n",
    "        \n",
    "        successors = graph[frontier]\n",
    "\n",
    "        for stop in successors:\n",
    "            if stop in path: continue  # check for loop\n",
    "            \n",
    "            new_path = path+[stop]\n",
    "            \n",
    "            pathes.append(new_path)  #bfs\n",
    "            \n",
    "        pathes = search_strategy(pathes)\n",
    "        pathes = additional_ss(pathes)\n",
    "        visited.add(frontier) \n",
    "        \n",
    "\n",
    "path = search(conn_stop,\"奥体中心\",\"天安门西\",search_strategy=sort_by_switch,\n",
    "             additional_ss = sort_by_distance)\n",
    "\n",
    "print(path)\n",
    "print(\"途径 {} 站\".format(len(path)-1))\n",
    "print(\"换乘 {} 次\".format(switches))"
   ]
  },
  {
   "cell_type": "markdown",
   "metadata": {},
   "source": [
    "基于BFS进行的搜索并不总能保证按照最优规则/搜索策略比如说最少换乘找到最理想的路线。最优规则是限定于已搜索的路径，而一旦到达了目的地搜索即停止，因此无法知道是否还有没搜索的路径更优（比如最少换乘）。BFS保证的最优首先是经历的节点最少。这样那些不满足这个条件且又没有先被搜索到的路径（搜索顺序按照从左到右或者alphabet所以没有优先级）就不会被考虑到，但是可能存在这样的路径虽然经历节点更多但按照其它规则（比如最少换乘）更优。\n",
    "\n",
    "比如下面这个例子："
   ]
  },
  {
   "cell_type": "code",
   "execution_count": 9,
   "metadata": {},
   "outputs": [
    {
     "name": "stdout",
     "output_type": "stream",
     "text": [
      "['国家图书馆', '动物园', '西直门', '积水潭', '鼓楼大街', '安德里北街', '安华桥', '北土城']\n",
      "途径 7 站\n",
      "换乘 2 次\n"
     ]
    }
   ],
   "source": [
    "path = search(conn_stop,\"国家图书馆\",\"北土城\",search_strategy=sort_by_switch)\n",
    "\n",
    "print(path)\n",
    "print(\"途径 {} 站\".format(len(path)-1))\n",
    "\n",
    "switches = count_switch(path)\n",
    "print(\"换乘 {} 次\".format(switches))"
   ]
  },
  {
   "cell_type": "markdown",
   "metadata": {},
   "source": [
    "实际上最少换乘的最优路径应该是4号线海淀黄庄转10号线，只需要换乘1站，但是总共途径9站。而按照BFS进行搜索，找到的路线西直门转2号线鼓楼大街转8号线只需要7站，但是却需要转乘两次。但是由于BFS在搜索到这条经历节点少的路径之后就停止考虑其它路径了，所以不会找到换乘更少的另一条。优先级/search strategy 只针对已搜索路径的排序，除非遍历所有可能路径/状态空间。但是这种做法非常不efficient, 所以很多算法应该是有针对这个问题的改进，比如根据实际情况加一些限制条件，在合理的一定范围内进行搜索并按照优先级排序。"
   ]
  },
  {
   "cell_type": "markdown",
   "metadata": {},
   "source": [
    "## Congratulations ! You have finished the assignment of week 2."
   ]
  },
  {
   "cell_type": "markdown",
   "metadata": {},
   "source": [
    "![title](img/agent.png)"
   ]
  },
  {
   "cell_type": "markdown",
   "metadata": {},
   "source": [
    "### If you have any suggestions regarding the teaching, please feel free to send them to my eamil (eric.lee.xiao@gmail.com) "
   ]
  },
  {
   "cell_type": "code",
   "execution_count": 1,
   "metadata": {},
   "outputs": [
    {
     "name": "stdout",
     "output_type": "stream",
     "text": [
      "Collecting plotly\n",
      "  Downloading https://files.pythonhosted.org/packages/8e/ce/6ea5683c47b682bffad39ad41d10913141b560b1b875a90dbc6abe3f4fa9/plotly-4.4.1-py2.py3-none-any.whl (7.3MB)\n",
      "Requirement already satisfied: six in c:\\users\\neuro\\appdata\\local\\continuum\\anaconda3\\lib\\site-packages (from plotly) (1.12.0)\n",
      "Collecting retrying>=1.3.3 (from plotly)\n",
      "  Downloading https://files.pythonhosted.org/packages/44/ef/beae4b4ef80902f22e3af073397f079c96969c69b2c7d52a57ea9ae61c9d/retrying-1.3.3.tar.gz\n",
      "Building wheels for collected packages: retrying\n",
      "  Building wheel for retrying (setup.py): started\n",
      "  Building wheel for retrying (setup.py): finished with status 'done'\n",
      "  Created wheel for retrying: filename=retrying-1.3.3-cp37-none-any.whl size=11435 sha256=46cce4d3c17f857e36d547303b36201a6eac4fbd7cae5cc382206dc3779582bd\n",
      "  Stored in directory: C:\\Users\\neuro\\AppData\\Local\\pip\\Cache\\wheels\\d7\\a9\\33\\acc7b709e2a35caa7d4cae442f6fe6fbf2c43f80823d46460c\n",
      "Successfully built retrying\n",
      "Installing collected packages: retrying, plotly\n",
      "Successfully installed plotly-4.4.1 retrying-1.3.3\n"
     ]
    }
   ],
   "source": [
    "!pip install plotly"
   ]
  },
  {
   "cell_type": "code",
   "execution_count": 2,
   "metadata": {},
   "outputs": [
    {
     "name": "stdout",
     "output_type": "stream",
     "text": [
      "Collecting selenium\n",
      "  Downloading https://files.pythonhosted.org/packages/80/d6/4294f0b4bce4de0abf13e17190289f9d0613b0a44e5dd6a7f5ca98459853/selenium-3.141.0-py2.py3-none-any.whl (904kB)\n",
      "Requirement already satisfied: urllib3 in c:\\users\\neuro\\appdata\\local\\continuum\\anaconda3\\lib\\site-packages (from selenium) (1.24.2)\n",
      "Installing collected packages: selenium\n",
      "Successfully installed selenium-3.141.0\n"
     ]
    }
   ],
   "source": [
    "!pip install selenium"
   ]
  },
  {
   "cell_type": "code",
   "execution_count": null,
   "metadata": {},
   "outputs": [],
   "source": []
  }
 ],
 "metadata": {
  "kernelspec": {
   "display_name": "Python 3",
   "language": "python",
   "name": "python3"
  },
  "language_info": {
   "codemirror_mode": {
    "name": "ipython",
    "version": 3
   },
   "file_extension": ".py",
   "mimetype": "text/x-python",
   "name": "python",
   "nbconvert_exporter": "python",
   "pygments_lexer": "ipython3",
   "version": "3.7.4"
  }
 },
 "nbformat": 4,
 "nbformat_minor": 2
}
