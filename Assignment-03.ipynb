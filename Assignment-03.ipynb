{
 "cells": [
  {
   "cell_type": "markdown",
   "metadata": {},
   "source": [
    "## Assignment-03 First Step of Machine Learning: Model and Evaluation"
   ]
  },
  {
   "cell_type": "markdown",
   "metadata": {},
   "source": [
    "同学们，今天我们的学习了基本的机器学习概念，相比你已经对机器学习的这些方法有一个基本的认识了。值得说明的是，机器学习不仅仅是一系列方法，更重要的是一种思维体系，即：依据以往的、现有的数据，构建某种方法来解决未见过的问题。而且决策树，贝叶斯只是实现这个目标的一个方法，包括之后的神经网络。很有可能有一天，神经网络也会被淘汰，但是重要的是我们要理解机器学习的目标，就是尽可能的自动化解决未知的问题。"
   ]
  },
  {
   "cell_type": "markdown",
   "metadata": {},
   "source": [
    "![](https://timgsa.baidu.com/timg?image&quality=80&size=b9999_10000&sec=1571556399207&di=4a97dc15ad08dd49d3748d1edf6109b3&imgtype=0&src=http%3A%2F%2Fc.hiphotos.baidu.com%2Fzhidao%2Fwh%3D450%2C600%2Fsign%3Dae742c6aedcd7b89e93932873a146e91%2F5d6034a85edf8db1b16050c40223dd54574e74c7.jpg)"
   ]
  },
  {
   "cell_type": "markdown",
   "metadata": {},
   "source": [
    "## Part-1 Programming Review 编程回顾"
   ]
  },
  {
   "cell_type": "markdown",
   "metadata": {},
   "source": [
    "#### 1. Re-code the Linear-Regression Model using scikit-learning(10 points)"
   ]
  },
  {
   "cell_type": "markdown",
   "metadata": {},
   "source": [
    "<评阅点>： \n",
    "> + 是否完成线性回归模型 (4')\n",
    "+ 能够进行预测新数据(3')\n",
    "+ 能够进行可视化操作(3')"
   ]
  },
  {
   "cell_type": "code",
   "execution_count": 2,
   "metadata": {},
   "outputs": [
    {
     "name": "stdout",
     "output_type": "stream",
     "text": [
      "0.6584796119633549\n",
      "13.357868154866958\n",
      "4.572104172968435\n"
     ]
    },
    {
     "data": {
      "text/plain": [
       "array([12.58682507])"
      ]
     },
     "execution_count": 2,
     "metadata": {},
     "output_type": "execute_result"
    },
    {
     "data": {
      "image/png": "[encoded data removed]",
      "text/plain": [
       "<Figure size 432x288 with 1 Axes>"
      ]
     },
     "metadata": {
      "needs_background": "light"
     },
     "output_type": "display_data"
    }
   ],
   "source": [
    "# you code here\n",
    "\n",
    "import numpy as np\n",
    "import random\n",
    "import matplotlib.pyplot as plt\n",
    "%matplotlib inline\n",
    "\n",
    "\n",
    "## generate data\n",
    "random_data = np.random.random((20,2))\n",
    "X = random_data[:,0]\n",
    "# y = random_data[:,1]\n",
    "\n",
    "def assuming_function(x):\n",
    "    return 13.4 * x + 5 + random.randint(-5,5)\n",
    "\n",
    "y = np.array([assuming_function(x) for x in X])\n",
    "\n",
    "\n",
    "## build linear model\n",
    "from sklearn.linear_model import LinearRegression\n",
    "reg = LinearRegression().fit(X.reshape(-1,1),y)\n",
    "\n",
    "print(reg.score(X.reshape(-1,1),y))\n",
    "print(reg.coef_[0])\n",
    "print(reg.intercept_)\n",
    "\n",
    "def f(x):\n",
    "    return reg.coef_ * x + reg.intercept_\n",
    "\n",
    "\n",
    "## plot data & regression line\n",
    "plt.scatter(X,y)\n",
    "plt.plot(X,f(X),color='red')\n",
    "\n",
    "## predict new data\n",
    "reg.predict([[0.6]])"
   ]
  },
  {
   "cell_type": "markdown",
   "metadata": {},
   "source": [
    "#### 2. Complete the unfinished KNN Model using pure python to solve the previous Line-Regression problem. (8 points)"
   ]
  },
  {
   "cell_type": "markdown",
   "metadata": {},
   "source": [
    "<评阅点>:\n",
    "> + 是否完成了KNN模型 (4')\n",
    "+ 是否能够预测新的数据 (4')"
   ]
  },
  {
   "cell_type": "code",
   "execution_count": 3,
   "metadata": {},
   "outputs": [
    {
     "name": "stdout",
     "output_type": "stream",
     "text": [
      "[(0.8113323195668792, 12.871853082196182), (0.6106869489923974, 8.183205116498126), (0.13310725050732497, 8.783637156798154), (0.882996577126553, 13.832154133495813), (0.7539658289273681, 15.103142107626732)]\n"
     ]
    },
    {
     "data": {
      "text/plain": [
       "11.754798319323001"
      ]
     },
     "execution_count": 3,
     "metadata": {},
     "output_type": "execute_result"
    }
   ],
   "source": [
    "# you code here\n",
    "def model(X,y):\n",
    "    return [(Xi,yi) for Xi,yi in zip(X,y)]\n",
    "\n",
    "from scipy.spatial.distance import cosine\n",
    "\n",
    "def distance(x1,x2):\n",
    "    return cosine(x1,x2)\n",
    "\n",
    "def predict(x,k=5):\n",
    "    most_similars = sorted(model(X,y),key=lambda xi: distance(xi[0],x))[:k]\n",
    "    \n",
    "    y_hats = [y for x,y in most_similars]\n",
    "    \n",
    "    print(most_similars)\n",
    "    \n",
    "    return np.mean(y_hats)\n",
    "    \n",
    "    \n",
    "myself_knn = model(X,y)\n",
    "predict(0.6)"
   ]
  },
  {
   "cell_type": "markdown",
   "metadata": {},
   "source": [
    "#### 3. Re-code the Decision Tree, which could sort the features by salience. (12 points)"
   ]
  },
  {
   "cell_type": "markdown",
   "metadata": {},
   "source": [
    "<评阅点>\n",
    "> + 是否实现了信息熵 (1' )\n",
    "+ 是否实现了最优先特征点的选择(5')\n",
    "+ 是否实现了持续的特征选则(6')"
   ]
  },
  {
   "cell_type": "markdown",
   "metadata": {},
   "source": [
    "### 1. 信息熵\n",
    "\n",
    "$$ Entropy = -\\sum_i^n Pr(x_i) log(Pr(x_i)) $$\n",
    "\n",
    "### 2. Gini 纯度\n",
    "\n",
    "$$ Gini = 1 - \\sum_{i=1}^J P_i^2 $$"
   ]
  },
  {
   "cell_type": "code",
   "execution_count": 27,
   "metadata": {},
   "outputs": [
    {
     "name": "stdout",
     "output_type": "stream",
     "text": [
      "Collecting icecream\n",
      "  Downloading https://files.pythonhosted.org/packages/8c/ec/821ef939e8e4f4306e7263afa7e2ce0b4c5da9e6e53d1cc97b01606035f8/icecream-2.0.0-py2.py3-none-any.whl\n",
      "Requirement already satisfied: pygments>=2.2.0 in c:\\users\\neuro\\appdata\\local\\continuum\\anaconda3\\lib\\site-packages (from icecream) (2.4.2)\n",
      "Requirement already satisfied: colorama>=0.3.9 in c:\\users\\neuro\\appdata\\local\\continuum\\anaconda3\\lib\\site-packages (from icecream) (0.4.1)\n",
      "Collecting executing>=0.3.1 (from icecream)\n",
      "  Downloading https://files.pythonhosted.org/packages/79/a1/f85482473b12b2b0e1fa10da84d4280930dbd6e4e149cedf7ae91f894138/executing-0.4.1.tar.gz\n",
      "Collecting asttokens>=2.0.1 (from icecream)\n",
      "  Downloading https://files.pythonhosted.org/packages/e8/18/41e95b4a6b4fd3ae704e672da5d070272518995f580be79d772be312c4af/asttokens-2.0.3-py2.py3-none-any.whl\n",
      "Requirement already satisfied: six in c:\\users\\neuro\\appdata\\local\\continuum\\anaconda3\\lib\\site-packages (from asttokens>=2.0.1->icecream) (1.12.0)\n",
      "Building wheels for collected packages: executing\n",
      "  Building wheel for executing (setup.py): started\n",
      "  Building wheel for executing (setup.py): finished with status 'done'\n",
      "  Created wheel for executing: filename=executing-0.4.1-cp37-none-any.whl size=8302 sha256=c9f253cac7a754a1fb7b4b72494b64e769fd0280d9682dd18bf7243123a11b1d\n",
      "  Stored in directory: C:\\Users\\neuro\\AppData\\Local\\pip\\Cache\\wheels\\b0\\71\\dc\\c1bdcd4b384c4458b639dfa905bc093979b8779f2e0df78792\n",
      "Successfully built executing\n",
      "Installing collected packages: executing, asttokens, icecream\n",
      "Successfully installed asttokens-2.0.3 executing-0.4.1 icecream-2.0.0\n"
     ]
    }
   ],
   "source": [
    "# !pip install icecream"
   ]
  },
  {
   "cell_type": "code",
   "execution_count": 11,
   "metadata": {},
   "outputs": [
    {
     "name": "stderr",
     "output_type": "stream",
     "text": [
      "ic| probs: [1.0]\n",
      "ic| probs: [0.25, 0.75]\n",
      "ic| probs: [0.25, 0.75]\n",
      "ic| probs: [0.25, 0.5, 0.25]\n",
      "ic| probs: [0.25, 0.5, 0.25]\n",
      "ic| probs: [0.25, 0.25, 0.25, 0.25]\n"
     ]
    },
    {
     "name": "stdout",
     "output_type": "stream",
     "text": [
      "-0.0\n",
      "0.5623351446188083\n",
      "0.5623351446188083\n",
      "1.0397207708399179\n",
      "1.0397207708399179\n",
      "1.3862943611198906\n"
     ]
    }
   ],
   "source": [
    "# you code here\n",
    "from collections import Counter\n",
    "from icecream import ic\n",
    "\n",
    "def entropy(elements):\n",
    "    counter = Counter(elements)\n",
    "    probs = [counter[c] / len(elements) for c in set(elements)]\n",
    "    ic(probs)\n",
    "    return -sum(p * np.log(p) for p in probs)\n",
    "\n",
    "print(entropy([1,1,1,1]))\n",
    "print(entropy([1,1,1,0]))\n",
    "print(entropy([2,3,3,3]))\n",
    "print(entropy([2,3,3,4]))\n",
    "print(entropy([1,2,2,3]))\n",
    "print(entropy([1,2,3,4]))"
   ]
  },
  {
   "cell_type": "code",
   "execution_count": 12,
   "metadata": {},
   "outputs": [
    {
     "data": {
      "text/html": [
       "<div>\n",
       "<style scoped>\n",
       "    .dataframe tbody tr th:only-of-type {\n",
       "        vertical-align: middle;\n",
       "    }\n",
       "\n",
       "    .dataframe tbody tr th {\n",
       "        vertical-align: top;\n",
       "    }\n",
       "\n",
       "    .dataframe thead th {\n",
       "        text-align: right;\n",
       "    }\n",
       "</style>\n",
       "<table border=\"1\" class=\"dataframe\">\n",
       "  <thead>\n",
       "    <tr style=\"text-align: right;\">\n",
       "      <th></th>\n",
       "      <th>gender</th>\n",
       "      <th>income</th>\n",
       "      <th>family_number</th>\n",
       "      <th>bought</th>\n",
       "    </tr>\n",
       "  </thead>\n",
       "  <tbody>\n",
       "    <tr>\n",
       "      <td>0</td>\n",
       "      <td>F</td>\n",
       "      <td>+10</td>\n",
       "      <td>1</td>\n",
       "      <td>1</td>\n",
       "    </tr>\n",
       "    <tr>\n",
       "      <td>1</td>\n",
       "      <td>F</td>\n",
       "      <td>-10</td>\n",
       "      <td>1</td>\n",
       "      <td>1</td>\n",
       "    </tr>\n",
       "    <tr>\n",
       "      <td>2</td>\n",
       "      <td>F</td>\n",
       "      <td>+10</td>\n",
       "      <td>2</td>\n",
       "      <td>1</td>\n",
       "    </tr>\n",
       "    <tr>\n",
       "      <td>3</td>\n",
       "      <td>F</td>\n",
       "      <td>+10</td>\n",
       "      <td>1</td>\n",
       "      <td>0</td>\n",
       "    </tr>\n",
       "    <tr>\n",
       "      <td>4</td>\n",
       "      <td>M</td>\n",
       "      <td>+10</td>\n",
       "      <td>1</td>\n",
       "      <td>0</td>\n",
       "    </tr>\n",
       "    <tr>\n",
       "      <td>5</td>\n",
       "      <td>M</td>\n",
       "      <td>+10</td>\n",
       "      <td>1</td>\n",
       "      <td>0</td>\n",
       "    </tr>\n",
       "    <tr>\n",
       "      <td>6</td>\n",
       "      <td>M</td>\n",
       "      <td>-10</td>\n",
       "      <td>2</td>\n",
       "      <td>1</td>\n",
       "    </tr>\n",
       "  </tbody>\n",
       "</table>\n",
       "</div>"
      ],
      "text/plain": [
       "  gender income  family_number  bought\n",
       "0      F    +10              1       1\n",
       "1      F    -10              1       1\n",
       "2      F    +10              2       1\n",
       "3      F    +10              1       0\n",
       "4      M    +10              1       0\n",
       "5      M    +10              1       0\n",
       "6      M    -10              2       1"
      ]
     },
     "execution_count": 12,
     "metadata": {},
     "output_type": "execute_result"
    }
   ],
   "source": [
    "fake_data = {\n",
    "    'gender': ['F','F','F','F','M','M','M'],\n",
    "    'income': ['+10','-10','+10','+10','+10','+10','-10'],\n",
    "    'family_number': [1,1,2,1,1,1,2],\n",
    "    'bought': [1,1,1,0,0,0,1],\n",
    "}\n",
    "\n",
    "import pandas as pd\n",
    "\n",
    "dataset = pd.DataFrame.from_dict(fake_data)\n",
    "dataset"
   ]
  },
  {
   "cell_type": "code",
   "execution_count": 13,
   "metadata": {},
   "outputs": [
    {
     "name": "stdout",
     "output_type": "stream",
     "text": [
      "{1, 2}\n",
      "  gender income  family_number  bought\n",
      "0      F    +10              1       1\n",
      "1      F    -10              1       1\n",
      "3      F    +10              1       0\n",
      "4      M    +10              1       0\n",
      "5      M    +10              1       0\n"
     ]
    }
   ],
   "source": [
    "print(set(fake_data['family_number']))\n",
    "# sub_split1 = dataset[dataset['family_number']==1]['bought'].tolist()\n",
    "# print(sub_split1)\n",
    "splited_data = dataset[dataset['family_number']==1]\n",
    "print(splited_data)"
   ]
  },
  {
   "cell_type": "code",
   "execution_count": 14,
   "metadata": {},
   "outputs": [
    {
     "name": "stdout",
     "output_type": "stream",
     "text": [
      "  gender income  family_number  bought\n",
      "0      F    +10              1       1\n",
      "3      F    +10              1       0\n",
      "4      M    +10              1       0\n",
      "5      M    +10              1       0\n",
      "  gender income  family_number  bought\n",
      "1      F    -10              1       1\n"
     ]
    }
   ],
   "source": [
    "print(splited_data[splited_data['income']=='+10'])\n",
    "print(splited_data[splited_data['income']=='-10'])"
   ]
  },
  {
   "cell_type": "code",
   "execution_count": 15,
   "metadata": {},
   "outputs": [
    {
     "name": "stderr",
     "output_type": "stream",
     "text": [
      "ic| probs: [0.3333333333333333, 0.6666666666666666]\n",
      "ic| probs: [1.0]\n",
      "ic| probs: [0.75, 0.25]\n",
      "ic| probs: [1.0]\n"
     ]
    },
    {
     "name": "stdout",
     "output_type": "stream",
     "text": [
      "0.6365141682948128\n"
     ]
    },
    {
     "data": {
      "text/plain": [
       "0.5623351446188083"
      ]
     },
     "execution_count": 15,
     "metadata": {},
     "output_type": "execute_result"
    }
   ],
   "source": [
    "# split by gender\n",
    "print(entropy([1,1,0]) + entropy([0,0]))\n",
    "\n",
    "# split by income\n",
    "entropy([1,0,0,0]) + entropy([1])"
   ]
  },
  {
   "cell_type": "code",
   "execution_count": 16,
   "metadata": {},
   "outputs": [
    {
     "name": "stderr",
     "output_type": "stream",
     "text": [
      "ic| f: 'gender'\n",
      "ic| values: {'F', 'M'}\n",
      "ic| sub_split1: [1, 1, 1, 0]\n",
      "ic| probs: [0.25, 0.75]\n",
      "ic| entropy_1: 0.5623351446188083\n",
      "ic| sub_split2: [0, 0, 1]\n",
      "ic| probs: [0.6666666666666666, 0.3333333333333333]\n",
      "ic| entropy_2: 0.6365141682948128\n",
      "ic| entropy_v: 1.198849312913621\n",
      "ic| sub_split1: [0, 0, 1]\n",
      "ic| probs: [0.6666666666666666, 0.3333333333333333]\n",
      "ic| entropy_1: 0.6365141682948128\n",
      "ic| sub_split2: [1, 1, 1, 0]\n",
      "ic| probs: [0.25, 0.75]\n",
      "ic| entropy_2: 0.5623351446188083\n",
      "ic| entropy_v: 1.198849312913621\n",
      "ic| f: 'family_number'\n",
      "ic| values: {1, 2}\n",
      "ic| sub_split1: [1, 1, 0, 0, 0]\n",
      "ic| probs: [0.6, 0.4]\n",
      "ic| entropy_1: 0.6730116670092565\n",
      "ic| sub_split2: [1, 1]\n",
      "ic| probs: [1.0]\n",
      "ic| entropy_2: -0.0\n",
      "ic| entropy_v: 0.6730116670092565\n",
      "ic| sub_split1: [1, 1]\n",
      "ic| probs: [1.0]\n",
      "ic| entropy_1: -0.0\n",
      "ic| sub_split2: [1, 1, 0, 0, 0]\n",
      "ic| probs: [0.6, 0.4]\n",
      "ic| entropy_2: 0.6730116670092565\n",
      "ic| entropy_v: 0.6730116670092565\n",
      "ic| f: 'income'\n",
      "ic| values: {'+10', '-10'}\n",
      "ic| sub_split1: [1, 1, 0, 0, 0]\n",
      "ic| probs: [0.6, 0.4]\n",
      "ic| entropy_1: 0.6730116670092565\n",
      "ic| sub_split2: [1, 1]\n",
      "ic| probs: [1.0]\n",
      "ic| entropy_2: -0.0\n",
      "ic| entropy_v: 0.6730116670092565\n",
      "ic| sub_split1: [1, 1]\n",
      "ic| probs: [1.0]\n",
      "ic| entropy_1: -0.0\n",
      "ic| sub_split2: [1, 1, 0, 0, 0]\n",
      "ic| probs: [0.6, 0.4]\n",
      "ic| entropy_2: 0.6730116670092565\n",
      "ic| entropy_v: 0.6730116670092565\n"
     ]
    },
    {
     "name": "stdout",
     "output_type": "stream",
     "text": [
      "the best spliter is: ('income', '-10')\n",
      "the min entropy is: 0.6730116670092565\n"
     ]
    },
    {
     "data": {
      "text/plain": [
       "('income', '-10')"
      ]
     },
     "execution_count": 16,
     "metadata": {},
     "output_type": "execute_result"
    }
   ],
   "source": [
    "def find_the_optimal_spliter(training_data:pd.DataFrame,target:str) -> str:\n",
    "    \n",
    "    feature_names = set(training_data.columns.tolist()) - {target}\n",
    "    \n",
    "    spliter = None\n",
    "    min_entropy = float('inf')\n",
    "    \n",
    "    for f in feature_names:\n",
    "        ic(f)\n",
    "        values = set(training_data[f])\n",
    "        ic(values)\n",
    "        for v in values:\n",
    "            sub_split1 = training_data[training_data[f] == v][target].tolist()\n",
    "            ic(sub_split1)\n",
    "            entropy_1 = entropy(sub_split1)\n",
    "            ic(entropy_1)\n",
    "            \n",
    "            sub_split2 = training_data[training_data[f] != v][target].tolist()\n",
    "            ic(sub_split2)\n",
    "            entropy_2 = entropy(sub_split2)\n",
    "            ic(entropy_2)\n",
    "            \n",
    "            entropy_v = entropy_1 + entropy_2\n",
    "            ic(entropy_v)\n",
    "            \n",
    "            if entropy_v <= min_entropy:\n",
    "                min_entropy = entropy_v\n",
    "                spliter = (f,v)\n",
    "                \n",
    "    print('the best spliter is: {}'.format(spliter))\n",
    "    print(\"the min entropy is: {}\".format(min_entropy))\n",
    "        \n",
    "    return spliter\n",
    "    \n",
    "\n",
    "find_the_optimal_spliter(training_data=dataset,target='bought')\n",
    "            "
   ]
  },
  {
   "cell_type": "markdown",
   "metadata": {},
   "source": [
    "#### 4. Finish the K-Means using 2-D matplotlib (8 points)"
   ]
  },
  {
   "cell_type": "markdown",
   "metadata": {},
   "source": [
    "<评阅点>\n",
    "> + 是否完成了KMeans模型，基于scikit-learning (3')\n",
    "+ 是否完成了可视化任务（5'）"
   ]
  },
  {
   "cell_type": "code",
   "execution_count": 9,
   "metadata": {},
   "outputs": [
    {
     "data": {
      "text/plain": [
       "KMeans(algorithm='auto', copy_x=True, init='k-means++', max_iter=500,\n",
       "       n_clusters=6, n_init=10, n_jobs=None, precompute_distances='auto',\n",
       "       random_state=None, tol=0.0001, verbose=0)"
      ]
     },
     "execution_count": 9,
     "metadata": {},
     "output_type": "execute_result"
    },
    {
     "data": {
      "image/png": "[encoded data removed]",
      "text/plain": [
       "<Figure size 432x288 with 1 Axes>"
      ]
     },
     "metadata": {
      "needs_background": "light"
     },
     "output_type": "display_data"
    }
   ],
   "source": [
    "from sklearn.cluster import KMeans\n",
    "\n",
    "X1 = [random.randint(0,100) for _ in range(100)]\n",
    "X2 = [random.randint(0,100) for _ in range(100)]\n",
    "\n",
    "plt.scatter(X1,X2)\n",
    "\n",
    "training_data = [[x1,x2] for x1,x2 in zip(X1,X2)]\n",
    "cluster = KMeans(n_clusters=6,max_iter=500)\n",
    "cluster.fit(training_data)"
   ]
  },
  {
   "cell_type": "code",
   "execution_count": 10,
   "metadata": {},
   "outputs": [
    {
     "data": {
      "text/plain": [
       "array([[45.07692308, 85.23076923],\n",
       "       [ 8.        , 82.9375    ],\n",
       "       [29.        , 49.9047619 ],\n",
       "       [84.07692308, 24.        ],\n",
       "       [78.5       , 67.        ],\n",
       "       [17.27272727, 21.09090909]])"
      ]
     },
     "execution_count": 10,
     "metadata": {},
     "output_type": "execute_result"
    }
   ],
   "source": [
    "cluster.cluster_centers_"
   ]
  },
  {
   "cell_type": "code",
   "execution_count": 11,
   "metadata": {},
   "outputs": [
    {
     "data": {
      "text/plain": [
       "array([2, 4, 0, 1, 2, 1, 0, 2, 5, 3, 4, 1, 3, 4, 5, 4, 2, 3, 0, 1, 0, 1,\n",
       "       2, 2, 5, 3, 4, 3, 4, 2, 0, 4, 5, 2, 0, 2, 5, 4, 3, 1, 0, 0, 5, 2,\n",
       "       3, 1, 5, 0, 4, 4, 4, 2, 1, 5, 1, 2, 0, 1, 2, 4, 4, 1, 1, 1, 4, 4,\n",
       "       5, 4, 4, 4, 4, 4, 2, 2, 4, 4, 2, 2, 3, 5, 3, 3, 1, 3, 4, 0, 1, 2,\n",
       "       1, 0, 0, 3, 2, 2, 5, 4, 2, 4, 4, 3])"
      ]
     },
     "execution_count": 11,
     "metadata": {},
     "output_type": "execute_result"
    }
   ],
   "source": [
    "cluster.labels_"
   ]
  },
  {
   "cell_type": "code",
   "execution_count": 12,
   "metadata": {},
   "outputs": [
    {
     "data": {
      "image/png": "[encoded data removed]",
      "text/plain": [
       "<Figure size 432x288 with 1 Axes>"
      ]
     },
     "metadata": {
      "needs_background": "light"
     },
     "output_type": "display_data"
    }
   ],
   "source": [
    "from collections import defaultdict\n",
    "\n",
    "centers = defaultdict(list)\n",
    "\n",
    "for label,location in zip(cluster.labels_,training_data):\n",
    "    centers[label].append(location)\n",
    "    \n",
    "color = ['red','green','grey','black','yellow','orange']\n",
    "\n",
    "for i,c in enumerate(centers):\n",
    "    for location in centers[c]:\n",
    "        plt.scatter(*location,c=color[i])\n",
    "        \n",
    "for center in cluster.cluster_centers_:\n",
    "    plt.scatter(*center,s=100)"
   ]
  },
  {
   "cell_type": "markdown",
   "metadata": {},
   "source": [
    "## Part-2 Question and Answer 问答"
   ]
  },
  {
   "cell_type": "markdown",
   "metadata": {},
   "source": [
    "#### 1. What's the *model*? why  all the models are wrong, but some are useful? (5 points) "
   ]
  },
  {
   "cell_type": "markdown",
   "metadata": {},
   "source": [
    "Ans: Model is abstract,formularized description of how things work / mechanical explanation of certain phenomenon. It uses features to predict a target. \n",
    "\n",
    "Because in reality there are numerous factors/features that could affect the turn-out of the predicted target, but not all of them are useful or important to solve the current problem, namely predicting new cases with currently available knowledge. Some feature are too trivial or irrelevant to predict the target, or their relationships with the target are too complicated or confounded, that cannot be easily found out with current knowledge, therefore they are less concerned and should not be included into the model.\n",
    "\n",
    "All the models are some simplified version or miniature of some real systems, which means they ignore some aspects or levels of details / factors. But, some models are very effective in predicting new cases of the target, with better performance than predicting by chance or by previous models. Then these are useful models."
   ]
  },
  {
   "cell_type": "markdown",
   "metadata": {},
   "source": [
    "<评阅点>\n",
    "> + 对模型的理解是否正确,对模型的抽象性是否正确(5')"
   ]
  },
  {
   "cell_type": "markdown",
   "metadata": {},
   "source": [
    "#### 2. What's the underfitting and overfitting? List the reasons that could make model overfitting or underfitting. (10 points)"
   ]
  },
  {
   "cell_type": "markdown",
   "metadata": {},
   "source": [
    "Ans: underfitting means the model is too simple to capture the main characteristics of the data, which leads to poor performance in both training & test datasets; overfitting means the model captures not only the main structure of the data but also the trivial features in the dataset (training dataset) which cannot be generalized to another similar dataset (test dataset), therefore leads to good performance in training dataset but poor performance in test dataset.\n",
    "\n",
    "The reasons for underfitting: model is too simple, for example, if the true relationship between x & y follows some higher order of polynomials e.g. y = x^3, if we use linear regression to fit the data, we would get poor performance because when x gets further from zero, the y clearly deviates heavier from the predicted y (only when x is in the small range around zero, linear regression could be a reasonable approximate).\n",
    "\n",
    "The reason for overfitting: model is too complicated so that it also captures noise in the training dataset, which is not replicated in the test dataset. "
   ]
  },
  {
   "cell_type": "markdown",
   "metadata": {},
   "source": [
    "<评阅点>\n",
    "> + 对过拟合和欠拟合的理解是否正确 (3')\n",
    "+ 对欠拟合产生的原因是否理解正确(2')\n",
    "+ 对过拟合产生的原因是否理解正确(5')"
   ]
  },
  {
   "cell_type": "markdown",
   "metadata": {},
   "source": [
    "#### 3. What's the precision, recall, AUC, F1, F2score. What are they mainly target on? (12')"
   ]
  },
  {
   "cell_type": "markdown",
   "metadata": {},
   "source": [
    "Ans: TP: True Positive; TN: True Negative; FP: False Positive; FN: False Negative\n",
    "\n",
    "precision = TP / (TP + FP)\n",
    "recall = TP / (TP + FN)\n",
    "\n",
    "AUC: Area Under Curve (Receiver Operating Characteristic Curve); if we have two distributions to discriminate, e.g. tagged as - & +. The further they are apart form each other, the better they could be discriminated. It is independent from where to draw the decision line / threshold. In fact we could draw the threshold from left to right many times. Each time we would get a TP & a FP value, & we plot it on the ROC (x: FP, y: TP). if the two distributions are totally overlapped & cannot be discriminated, the AUC of ROC is close to 50/50, otherwise the further the two distributions away from each other, the value of AUC is closer to 1.\n",
    "\n",
    "\n",
    "F1 & F2 scores are weighted average of precision & recall, they both folow:\n",
    "\n",
    "(1+beta^2) * precision * recall / (beta^2 * precision + recall)\n",
    "\n",
    "F1-score sets beta=1: F1 = 2 * (precision * recall) / (precision + recall) \n",
    "\n",
    "F2-score sets beta = 2\n",
    "\n",
    "set beta > 1 gives more weight to precision, set 0<beta<1 gives more weight to recall.\n",
    "\n",
    "precision 查准率衡量的是一个模型判断为positive阳性的样本里面有多少是正确的,它的侧重点是控制假阳性（查准率高 --> 假阳性低）。比如法院在判决犯人的时候要尽可能避免误判（就是秉承“宁可漏网不可冤枉”，而不是“宁可错杀千人不可放过一个”的原则），出发的点是“无罪”，然后再通过证据证明在无罪的前提下事件发生的可能性极低来推翻原假设。而recall检出率衡量的是有多少实际上为阳性的样本能够被模型检测出的概率，它的侧重点是不要有“漏网之鱼”，比如这次疫情，有疑似症状的需要尽早隔离进一步诊断医治（尽管并不一定是被新冠病毒感染的患者）。一个合理的模型需要 precision & recall 都高，但是根据实际需求不同，侧重点会不同，看哪一个更重要、更迫切。\n",
    "\n",
    "AUC 完全由数据的数值分布决定，与划分阴性/阳性的决策分界线无关。但是模型可以通过学习调整其参数来 maximize AUC,使得所选features组合对两类样本由最高的区分度。\n",
    "\n",
    "F-meaurements (F1,F2-scores) are weighted average of precision & recall. 综合考虑了查准率和检出率，且通过调整beta值可以调整二者的比重。"
   ]
  },
  {
   "cell_type": "markdown",
   "metadata": {},
   "source": [
    "<评阅点>\n",
    "> + 对precision, recall, AUC, F1, F2 理解是否正确(6‘)\n",
    "+ 对precision, recall, AUC, F1, F2的使用侧重点是否理解正确 (6’)"
   ]
  },
  {
   "cell_type": "markdown",
   "metadata": {},
   "source": [
    "#### 4. Based on our course and yourself mind, what's the machine learning?  (8')"
   ]
  },
  {
   "cell_type": "markdown",
   "metadata": {},
   "source": [
    "Ans: 机器学习就是让程序自己通过数据来提炼出有用的规则，也就是通过data-driven 的方式构建可以解释和预测新数据的模型。而传统的分析式编程是靠人写入一条一条判断规则/判定语句，也就是模型的参数等细节是写死的，但是人的认知有限人不是上帝数据背后的规则不是按照人定的规则产生的，一旦真实数据发生一些变化就要重新修改代码，然而机器学习不用。在机器学习当中人需要提供的只是一个大的框架，即要实现的目标是什么（分类？估值？），可提供的相关数据有哪些（features), 按照大致一个什么思路/算法进行，以及对输出结果设定什么样的评价标准，衡量模型的好坏。这一套流程非常具有普适性，不会因为具体数据发生变化而改变。变的是模型在学习的过程当中根据数据自身做的调整（学习到的参数等等）。所以机器学习程序的代码不用跟着数据改（尽管也不是绝对的普适），有足够的灵活性自适应到具体的数据产生合适的模型。"
   ]
  },
  {
   "cell_type": "markdown",
   "metadata": {},
   "source": [
    "<评阅点> 开放式问题，是否能说出来机器学习这种思维方式和传统的分析式编程的区别（8'）"
   ]
  },
  {
   "cell_type": "markdown",
   "metadata": {},
   "source": [
    "#### 5. \"正确定义了机器学习模型的评价标准(evaluation)， 问题基本上就已经解决一半\". 这句话是否正确？你是怎么看待的？ (8‘)"
   ]
  },
  {
   "cell_type": "markdown",
   "metadata": {},
   "source": [
    "机器学习这么实用的学科，当然是“关键看效果”。但是效果这么抽象一个词，它可能意味着很多事情。如果只是含糊其词、摸棱两可，会严重影响最后对模型优劣的判断（是否该模型可以采纳）。比如一个几千几万样本的数据集里只有几例 positive cases，如果按照accuracy来评价，再烂的分类器也会有很高的正确率，显然是个错误的选择。所以首先要量化好“效果”，确定评价标准是什么，比如检出率和查准率哪个更重要？或者正确率、检出率、查准率等等performance差不多的情况下，也需要尽可能选择更加简单的模型（计算BIC,AIC,etc.) 。"
   ]
  },
  {
   "cell_type": "markdown",
   "metadata": {},
   "source": [
    "<评阅点> 开放式问题，主要看能理解评价指标对机器学习模型的重要性."
   ]
  },
  {
   "cell_type": "markdown",
   "metadata": {},
   "source": [
    "## Part-03 Programming Practice 编程练习"
   ]
  },
  {
   "cell_type": "markdown",
   "metadata": {},
   "source": [
    "1. In our course and previous practice, we complete some importance components of Decision Tree. In this problem, you need to build a **completed** Decision Tree Model. You show finish a `predicate()` function, which accepts three parameters **<gender, income, family_number>**, and outputs the predicated 'bought': 1 or 0.  (20 points)"
   ]
  },
  {
   "cell_type": "code",
   "execution_count": 17,
   "metadata": {},
   "outputs": [],
   "source": [
    "def entropy(elements):\n",
    "    counter = Counter(elements)\n",
    "    probs = [counter[c] / len(elements) for c in set(elements)]\n",
    "    return -sum(p * np.log(p) for p in probs)\n",
    "\n",
    "def find_the_optimal_spliter(training_data:pd.DataFrame,target:str) -> str:\n",
    "    \n",
    "    feature_names = set(training_data.columns.tolist()) - {target}\n",
    "    \n",
    "    spliter = None\n",
    "    min_entropy = float('inf')\n",
    "    \n",
    "    for f in feature_names:\n",
    "        values = set(training_data[f])\n",
    "        for v in values:\n",
    "            sub_split1 = training_data[training_data[f] == v][target].tolist()\n",
    "            entropy_1 = entropy(sub_split1)\n",
    "            \n",
    "            sub_split2 = training_data[training_data[f] != v][target].tolist()\n",
    "            entropy_2 = entropy(sub_split2)\n",
    "            \n",
    "            entropy_v = entropy_1 + entropy_2\n",
    "            \n",
    "            if entropy_v <= min_entropy:\n",
    "                min_entropy = entropy_v\n",
    "                spliter = (f,v)\n",
    "                \n",
    "#     print('the best spliter is: {}'.format(spliter))\n",
    "#     print(\"the min entropy is: {}\".format(min_entropy))\n",
    "        \n",
    "    return spliter"
   ]
  },
  {
   "cell_type": "code",
   "execution_count": 105,
   "metadata": {},
   "outputs": [
    {
     "name": "stdout",
     "output_type": "stream",
     "text": [
      "income : +10\n",
      "{'family_number': {1: {'gender': {'F': 0, 'M': 0}}, 2: 1}}\n",
      "family_number : 1\n",
      "{'gender': {'F': 0, 'M': 0}}\n",
      "gender : M\n",
      "0 \n",
      "\n",
      "\n",
      "income : -10\n"
     ]
    },
    {
     "data": {
      "text/plain": [
       "1"
      ]
     },
     "execution_count": 105,
     "metadata": {},
     "output_type": "execute_result"
    }
   ],
   "source": [
    "# you code here\n",
    "\n",
    "import statistics\n",
    "\n",
    "def tree(dataset:pd.DataFrame,target='bought'):\n",
    "    \n",
    "    features = set(dataset.columns.tolist()) - {target}\n",
    "    \n",
    "    labels = dataset[target]\n",
    "    classes = np.unique(labels)\n",
    "    counts = Counter(labels)\n",
    "    probs = [counts[c]/len(labels) for c in classes]\n",
    "#     print(probs)  \n",
    "    \n",
    "    if len(features) == 0 or len(set(labels)) == 1:\n",
    "        bought = classes[np.where(probs==np.max(probs))][0] # statistics.mode(labels)\n",
    "#         print(\"bought = {}\\n\".format(bought))\n",
    "        return bought\n",
    "        \n",
    "    else:\n",
    "        best_spliter = find_the_optimal_spliter(dataset,target)[0]\n",
    "#         print(best_spliter)\n",
    "    \n",
    "        values = set(dataset[best_spliter])\n",
    "        \n",
    "        dc = {best_spliter:{}}\n",
    "\n",
    "        for v in values:\n",
    "#             print((best_spliter,v))\n",
    "            subset = dataset[dataset[best_spliter]==v]\n",
    "            subset = subset.drop(best_spliter,1)\n",
    "#             print(subset)\n",
    "            if not subset.empty: \n",
    "                dc[best_spliter][v] = tree(subset)\n",
    "        return dc\n",
    "\n",
    "                  \n",
    "ctree = tree(dataset)     \n",
    "\n",
    "\n",
    "def predicate(gender,income,family_number,tree=ctree):\n",
    "    \n",
    "    input_vals = [gender,income,family_number]\n",
    "    \n",
    "    feature_list = ['gender','income','family_number']\n",
    "    \n",
    "    root_node = list(tree.keys())[0]\n",
    "    \n",
    "    root_node_idx = [idx for idx,v in enumerate(feature_list) if v==root_node][0]\n",
    "    \n",
    "    root_val = input_vals[root_node_idx]\n",
    "    \n",
    "    print(\"{} : {}\".format(root_node,root_val))\n",
    "    \n",
    "    divisions = tree[root_node]\n",
    "    \n",
    "    branch = divisions[root_val]\n",
    "    \n",
    "    if isinstance(branch,dict):\n",
    "        print(branch)\n",
    "        c = predicate(gender,income,family_number,tree=branch)\n",
    "    else:\n",
    "        c = divisions[root_val]\n",
    "        \n",
    "    return c\n",
    "\n",
    "\n",
    "print(predicate('M','+10',1), '\\n\\n')\n",
    "\n",
    "predicate('M','-10',1)"
   ]
  },
  {
   "cell_type": "markdown",
   "metadata": {},
   "source": [
    "<评阅点>\n",
    "> + 是否将之前的决策树模型的部分进行合并组装， predicate函数能够顺利运行(8')\n",
    "+ 是够能够输入未曾见过的X变量，例如gender, income, family_number 分别是： <M, -10, 1>, 模型能够预测出结果 (12')"
   ]
  },
  {
   "cell_type": "markdown",
   "metadata": {},
   "source": [
    "2. 将上一节课(第二节课)的线性回归问题中的Loss函数改成\"绝对值\"，并且改变其偏导的求值方式，观察其结果的变化。(19 point)"
   ]
  },
  {
   "cell_type": "code",
   "execution_count": 6,
   "metadata": {},
   "outputs": [],
   "source": [
    "# you code here\n",
    "import numpy as np\n",
    "\n",
    "def loss(y,y_hat):\n",
    "    return sum(abs(y_i - y_hat_i) for y_i,y_hat_i in zip(list(y),list(y_hat)))/len(list(y))\n",
    "\n",
    "def partial_k(x,y,y_hat):\n",
    "    n = len(y)\n",
    "    gradient = 0\n",
    "    for xi,yi,y_hati in zip(list(x),list(y),list(y_hat)):\n",
    "        gradient += np.sign(yi - y_hati) * xi\n",
    "    return -1/n * gradient\n",
    "\n",
    "def partial_b(y,y_hat):\n",
    "    n = len(y)\n",
    "    gradient = 0\n",
    "    for yi,y_hati in zip(list(y),list(y_hat)):\n",
    "        gradient += np.sign(yi - y_hati) \n",
    "    return -1/n * gradient\n"
   ]
  },
  {
   "cell_type": "markdown",
   "metadata": {},
   "source": [
    "<评阅点>\n",
    "+ 是否将Loss改成了“绝对值”(3')\n",
    "+ 是否完成了偏导的重新定义(5')\n",
    "+ 新的模型Loss是否能够收敛 (11’)"
   ]
  },
  {
   "cell_type": "code",
   "execution_count": 13,
   "metadata": {},
   "outputs": [
    {
     "data": {
      "text/plain": [
       "[<matplotlib.lines.Line2D at 0x257e81ae908>]"
      ]
     },
     "execution_count": 13,
     "metadata": {},
     "output_type": "execute_result"
    },
    {
     "data": {
      "image/png": "[encoded data removed]",
      "text/plain": [
       "<Figure size 432x288 with 1 Axes>"
      ]
     },
     "metadata": {
      "needs_background": "light"
     },
     "output_type": "display_data"
    }
   ],
   "source": [
    "from sklearn.datasets import load_boston\n",
    "import random\n",
    "import matplotlib.pyplot as plt\n",
    "%matplotlib inline\n",
    "\n",
    "dataset = load_boston()\n",
    "x,y=dataset['data'],dataset['target']\n",
    "X_rm = x[:,5]\n",
    "\n",
    "def price(rm, k, b):\n",
    "    return k * rm + b\n",
    "\n",
    "\n",
    "k = random.random() * 200 - 100  \n",
    "b = random.random() * 200 - 100  \n",
    "\n",
    "learning_rate = 1e-2\n",
    "\n",
    "iteration_num = 500 \n",
    "losses = []\n",
    "for i in range(iteration_num):\n",
    "    \n",
    "    price_use_current_parameters = [price(r, k, b) for r in X_rm]  # \\hat{y}\n",
    "    \n",
    "    current_loss = loss(y, price_use_current_parameters)\n",
    "    losses.append(current_loss)\n",
    "#     print(\"Iteration {}, the loss is {}, parameters k is {} and b is {}\".format(i,current_loss,k,b))\n",
    "    \n",
    "    k_gradient = partial_k(X_rm, y, price_use_current_parameters)\n",
    "    b_gradient = partial_b(y, price_use_current_parameters)\n",
    "    \n",
    "    k = k + (-1 * k_gradient) * learning_rate\n",
    "    b = b + (-1 * b_gradient) * learning_rate\n",
    "best_k = k\n",
    "best_b = b\n",
    "\n",
    "plt.plot(list(range(iteration_num)),losses)\n"
   ]
  },
  {
   "cell_type": "code",
   "execution_count": 14,
   "metadata": {},
   "outputs": [
    {
     "data": {
      "text/plain": [
       "<matplotlib.collections.PathCollection at 0x257e81f1088>"
      ]
     },
     "execution_count": 14,
     "metadata": {},
     "output_type": "execute_result"
    },
    {
     "data": {
      "image/png": "[encoded data removed]",
      "text/plain": [
       "<Figure size 432x288 with 1 Axes>"
      ]
     },
     "metadata": {
      "needs_background": "light"
     },
     "output_type": "display_data"
    }
   ],
   "source": [
    "price_use_best_parameters = [price(r, best_k, best_b) for r in X_rm]\n",
    "\n",
    "plt.scatter(X_rm,y)\n",
    "plt.scatter(X_rm,price_use_current_parameters)"
   ]
  },
  {
   "cell_type": "markdown",
   "metadata": {},
   "source": []
  }
 ],
 "metadata": {
  "kernelspec": {
   "display_name": "Python 3",
   "language": "python",
   "name": "python3"
  },
  "language_info": {
   "codemirror_mode": {
    "name": "ipython",
    "version": 3
   },
   "file_extension": ".py",
   "mimetype": "text/x-python",
   "name": "python",
   "nbconvert_exporter": "python",
   "pygments_lexer": "ipython3",
   "version": "3.7.4"
  }
 },
 "nbformat": 4,
 "nbformat_minor": 2
}
